{
 "cells": [
  {
   "cell_type": "markdown",
   "metadata": {
    "papermill": {
     "duration": 0.022011,
     "end_time": "2020-12-30T09:15:52.751810",
     "exception": false,
     "start_time": "2020-12-30T09:15:52.729799",
     "status": "completed"
    },
    "tags": []
   },
   "source": [
    "## 0. Introduction\n",
    "In this notebook, we will be using CountVectorizer (an sklearn implementation of Bag-of-Words) model to convert the texts to a numerical dataset which can be then mapped against the output variables **\"toxic\",\"severe_toxic\",\"obscene\",\"threat\",\"insult\",\"identity_hate\"** and any model can be used learn the dependency of the output variable i.e. toxic type in this case on occurence of words. For now, we will be using **Naive Bayes and Logistic Regression** on top of the dataset created by CountVectorizer and will choose the one giving the best results on validation dataset to predict on the test dataset. We will be using **Multi Output Classifier** wrapper from sklearn to create models for all the 6 output variables\n",
    "![](data:image/jpeg;base64,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)\n",
    "\n",
    "\n",
    "### Table of Contents:\n",
    "[1. Importing Libraries](#1)\n",
    "\n",
    "[2. Reading Dataset](#2)\n",
    "\n",
    "[3. Splitting Dataset into training and validation sets](#3)\n",
    "\n",
    "[4. Basic Preprocessing and Creating Bag of Words](#4)\n",
    "\n",
    "[5. Initialising and Training Multi Output Classifier Models](#5)\n",
    "\n",
    "[6. Measuring performance on Validation data](#6)\n",
    "\n",
    "[7. Predicting and Submitting for Test Data](#7)\n",
    "\n",
    "[8. Model Interpretation](#8)\n",
    "\n",
    "[9. TODOs](#9)"
   ]
  },
  {
   "cell_type": "markdown",
   "metadata": {
    "papermill": {
     "duration": 0.021149,
     "end_time": "2020-12-30T09:15:52.794443",
     "exception": false,
     "start_time": "2020-12-30T09:15:52.773294",
     "status": "completed"
    },
    "tags": []
   },
   "source": [
    "## 1. Importing Libraries <a class=\"anchor\" id=\"1\"></a>"
   ]
  },
  {
   "cell_type": "code",
   "execution_count": 1,
   "metadata": {
    "_cell_guid": "b1076dfc-b9ad-4769-8c92-a6c4dae69d19",
    "_uuid": "8f2839f25d086af736a60e9eeb907d3b93b6e0e5",
    "execution": {
     "iopub.execute_input": "2020-12-30T09:15:52.841707Z",
     "iopub.status.busy": "2020-12-30T09:15:52.840619Z",
     "iopub.status.idle": "2020-12-30T09:15:54.450441Z",
     "shell.execute_reply": "2020-12-30T09:15:54.447516Z"
    },
    "papermill": {
     "duration": 1.634174,
     "end_time": "2020-12-30T09:15:54.450664",
     "exception": false,
     "start_time": "2020-12-30T09:15:52.816490",
     "status": "completed"
    },
    "tags": []
   },
   "outputs": [
    {
     "name": "stderr",
     "output_type": "stream",
     "text": [
      "/opt/conda/lib/python3.7/site-packages/sklearn/utils/deprecation.py:143: FutureWarning: The sklearn.feature_extraction.stop_words module is  deprecated in version 0.22 and will be removed in version 0.24. The corresponding classes / functions should instead be imported from sklearn.feature_extraction.text. Anything that cannot be imported from sklearn.feature_extraction.text is now part of the private API.\n",
      "  warnings.warn(message, FutureWarning)\n"
     ]
    }
   ],
   "source": [
    "import numpy as np # linear algebra\n",
    "import pandas as pd # data processing, CSV file I/O (e.g. pd.read_csv)\n",
    "\n",
    "from statistics import mean \n",
    "\n",
    "import string \n",
    "\n",
    "#Sklearn Libraries\n",
    "from sklearn.model_selection import train_test_split\n",
    "from sklearn.feature_extraction import stop_words\n",
    "from sklearn.feature_extraction.text import CountVectorizer\n",
    "from sklearn.multioutput import MultiOutputClassifier\n",
    "from sklearn.naive_bayes import MultinomialNB\n",
    "from sklearn.linear_model import LogisticRegression\n",
    "from sklearn.metrics import roc_auc_score\n",
    "\n",
    "#Plotting Libraries\n",
    "import matplotlib.pyplot as plt\n",
    "import seaborn as sns\n",
    "\n",
    "#To set precision to 3 decimals\n",
    "pd.options.display.float_format = \"{:,.2f}\".format"
   ]
  },
  {
   "cell_type": "markdown",
   "metadata": {
    "papermill": {
     "duration": 0.021249,
     "end_time": "2020-12-30T09:15:54.494997",
     "exception": false,
     "start_time": "2020-12-30T09:15:54.473748",
     "status": "completed"
    },
    "tags": []
   },
   "source": [
    "## 2.Reading Dataset <a class=\"anchor\" id=\"2\"></a>\n",
    "All the datasets are provided as zipped files. First we will have to unzip them and then read them into dataframes"
   ]
  },
  {
   "cell_type": "code",
   "execution_count": 2,
   "metadata": {
    "_cell_guid": "79c7e3d0-c299-4dcb-8224-4455121ee9b0",
    "_uuid": "d629ff2d2480ee46fbb7e2d37f6b5fab8052498a",
    "execution": {
     "iopub.execute_input": "2020-12-30T09:15:54.544450Z",
     "iopub.status.busy": "2020-12-30T09:15:54.543735Z",
     "iopub.status.idle": "2020-12-30T09:15:57.259072Z",
     "shell.execute_reply": "2020-12-30T09:15:57.258344Z"
    },
    "papermill": {
     "duration": 2.741948,
     "end_time": "2020-12-30T09:15:57.259210",
     "exception": false,
     "start_time": "2020-12-30T09:15:54.517262",
     "status": "completed"
    },
    "tags": []
   },
   "outputs": [
    {
     "name": "stdout",
     "output_type": "stream",
     "text": [
      "\r\n",
      "4 archives were successfully processed.\r\n"
     ]
    }
   ],
   "source": [
    "#unzipping all the zip folders and saving it /kaggle/working and saving the verbose in /dev/null to keep it quiet\n",
    "# -o for overwrite -d for destination directory of unzipped file\n",
    "!unzip -o '/kaggle/input/jigsaw-toxic-comment-classification-challenge/*.zip' -d /kaggle/working > /dev/null"
   ]
  },
  {
   "cell_type": "code",
   "execution_count": 3,
   "metadata": {
    "execution": {
     "iopub.execute_input": "2020-12-30T09:15:57.313951Z",
     "iopub.status.busy": "2020-12-30T09:15:57.313177Z",
     "iopub.status.idle": "2020-12-30T09:15:59.272471Z",
     "shell.execute_reply": "2020-12-30T09:15:59.271717Z"
    },
    "papermill": {
     "duration": 1.989456,
     "end_time": "2020-12-30T09:15:59.272762",
     "exception": false,
     "start_time": "2020-12-30T09:15:57.283306",
     "status": "completed"
    },
    "tags": []
   },
   "outputs": [
    {
     "name": "stdout",
     "output_type": "stream",
     "text": [
      "(159571, 8) (153164, 2) (153164, 7)\n"
     ]
    },
    {
     "data": {
      "text/html": [
       "<div>\n",
       "<style scoped>\n",
       "    .dataframe tbody tr th:only-of-type {\n",
       "        vertical-align: middle;\n",
       "    }\n",
       "\n",
       "    .dataframe tbody tr th {\n",
       "        vertical-align: top;\n",
       "    }\n",
       "\n",
       "    .dataframe thead th {\n",
       "        text-align: right;\n",
       "    }\n",
       "</style>\n",
       "<table border=\"1\" class=\"dataframe\">\n",
       "  <thead>\n",
       "    <tr style=\"text-align: right;\">\n",
       "      <th></th>\n",
       "      <th>id</th>\n",
       "      <th>comment_text</th>\n",
       "      <th>toxic</th>\n",
       "      <th>severe_toxic</th>\n",
       "      <th>obscene</th>\n",
       "      <th>threat</th>\n",
       "      <th>insult</th>\n",
       "      <th>identity_hate</th>\n",
       "    </tr>\n",
       "  </thead>\n",
       "  <tbody>\n",
       "    <tr>\n",
       "      <th>0</th>\n",
       "      <td>0000997932d777bf</td>\n",
       "      <td>Explanation\\nWhy the edits made under my usern...</td>\n",
       "      <td>0</td>\n",
       "      <td>0</td>\n",
       "      <td>0</td>\n",
       "      <td>0</td>\n",
       "      <td>0</td>\n",
       "      <td>0</td>\n",
       "    </tr>\n",
       "    <tr>\n",
       "      <th>1</th>\n",
       "      <td>000103f0d9cfb60f</td>\n",
       "      <td>D'aww! He matches this background colour I'm s...</td>\n",
       "      <td>0</td>\n",
       "      <td>0</td>\n",
       "      <td>0</td>\n",
       "      <td>0</td>\n",
       "      <td>0</td>\n",
       "      <td>0</td>\n",
       "    </tr>\n",
       "    <tr>\n",
       "      <th>2</th>\n",
       "      <td>000113f07ec002fd</td>\n",
       "      <td>Hey man, I'm really not trying to edit war. It...</td>\n",
       "      <td>0</td>\n",
       "      <td>0</td>\n",
       "      <td>0</td>\n",
       "      <td>0</td>\n",
       "      <td>0</td>\n",
       "      <td>0</td>\n",
       "    </tr>\n",
       "    <tr>\n",
       "      <th>3</th>\n",
       "      <td>0001b41b1c6bb37e</td>\n",
       "      <td>\"\\nMore\\nI can't make any real suggestions on ...</td>\n",
       "      <td>0</td>\n",
       "      <td>0</td>\n",
       "      <td>0</td>\n",
       "      <td>0</td>\n",
       "      <td>0</td>\n",
       "      <td>0</td>\n",
       "    </tr>\n",
       "    <tr>\n",
       "      <th>4</th>\n",
       "      <td>0001d958c54c6e35</td>\n",
       "      <td>You, sir, are my hero. Any chance you remember...</td>\n",
       "      <td>0</td>\n",
       "      <td>0</td>\n",
       "      <td>0</td>\n",
       "      <td>0</td>\n",
       "      <td>0</td>\n",
       "      <td>0</td>\n",
       "    </tr>\n",
       "  </tbody>\n",
       "</table>\n",
       "</div>"
      ],
      "text/plain": [
       "                 id                                       comment_text  toxic  \\\n",
       "0  0000997932d777bf  Explanation\\nWhy the edits made under my usern...      0   \n",
       "1  000103f0d9cfb60f  D'aww! He matches this background colour I'm s...      0   \n",
       "2  000113f07ec002fd  Hey man, I'm really not trying to edit war. It...      0   \n",
       "3  0001b41b1c6bb37e  \"\\nMore\\nI can't make any real suggestions on ...      0   \n",
       "4  0001d958c54c6e35  You, sir, are my hero. Any chance you remember...      0   \n",
       "\n",
       "   severe_toxic  obscene  threat  insult  identity_hate  \n",
       "0             0        0       0       0              0  \n",
       "1             0        0       0       0              0  \n",
       "2             0        0       0       0              0  \n",
       "3             0        0       0       0              0  \n",
       "4             0        0       0       0              0  "
      ]
     },
     "execution_count": 3,
     "metadata": {},
     "output_type": "execute_result"
    }
   ],
   "source": [
    "#Reading input csv files\n",
    "train_text = pd.read_csv(\"train.csv\")\n",
    "test_text = pd.read_csv(\"test.csv\")\n",
    "sample_submission = pd.read_csv(\"sample_submission.csv\")\n",
    "\n",
    "print(train_text.shape, test_text.shape, sample_submission.shape)\n",
    "train_text.head()"
   ]
  },
  {
   "cell_type": "code",
   "execution_count": 4,
   "metadata": {
    "execution": {
     "iopub.execute_input": "2020-12-30T09:15:59.330986Z",
     "iopub.status.busy": "2020-12-30T09:15:59.330293Z",
     "iopub.status.idle": "2020-12-30T09:15:59.334717Z",
     "shell.execute_reply": "2020-12-30T09:15:59.334058Z"
    },
    "papermill": {
     "duration": 0.037005,
     "end_time": "2020-12-30T09:15:59.334857",
     "exception": false,
     "start_time": "2020-12-30T09:15:59.297852",
     "status": "completed"
    },
    "tags": []
   },
   "outputs": [
    {
     "data": {
      "text/html": [
       "<div>\n",
       "<style scoped>\n",
       "    .dataframe tbody tr th:only-of-type {\n",
       "        vertical-align: middle;\n",
       "    }\n",
       "\n",
       "    .dataframe tbody tr th {\n",
       "        vertical-align: top;\n",
       "    }\n",
       "\n",
       "    .dataframe thead th {\n",
       "        text-align: right;\n",
       "    }\n",
       "</style>\n",
       "<table border=\"1\" class=\"dataframe\">\n",
       "  <thead>\n",
       "    <tr style=\"text-align: right;\">\n",
       "      <th></th>\n",
       "      <th>id</th>\n",
       "      <th>comment_text</th>\n",
       "    </tr>\n",
       "  </thead>\n",
       "  <tbody>\n",
       "    <tr>\n",
       "      <th>0</th>\n",
       "      <td>00001cee341fdb12</td>\n",
       "      <td>Yo bitch Ja Rule is more succesful then you'll...</td>\n",
       "    </tr>\n",
       "    <tr>\n",
       "      <th>1</th>\n",
       "      <td>0000247867823ef7</td>\n",
       "      <td>== From RfC == \\n\\n The title is fine as it is...</td>\n",
       "    </tr>\n",
       "    <tr>\n",
       "      <th>2</th>\n",
       "      <td>00013b17ad220c46</td>\n",
       "      <td>\" \\n\\n == Sources == \\n\\n * Zawe Ashton on Lap...</td>\n",
       "    </tr>\n",
       "    <tr>\n",
       "      <th>3</th>\n",
       "      <td>00017563c3f7919a</td>\n",
       "      <td>:If you have a look back at the source, the in...</td>\n",
       "    </tr>\n",
       "    <tr>\n",
       "      <th>4</th>\n",
       "      <td>00017695ad8997eb</td>\n",
       "      <td>I don't anonymously edit articles at all.</td>\n",
       "    </tr>\n",
       "  </tbody>\n",
       "</table>\n",
       "</div>"
      ],
      "text/plain": [
       "                 id                                       comment_text\n",
       "0  00001cee341fdb12  Yo bitch Ja Rule is more succesful then you'll...\n",
       "1  0000247867823ef7  == From RfC == \\n\\n The title is fine as it is...\n",
       "2  00013b17ad220c46  \" \\n\\n == Sources == \\n\\n * Zawe Ashton on Lap...\n",
       "3  00017563c3f7919a  :If you have a look back at the source, the in...\n",
       "4  00017695ad8997eb          I don't anonymously edit articles at all."
      ]
     },
     "execution_count": 4,
     "metadata": {},
     "output_type": "execute_result"
    }
   ],
   "source": [
    "test_text.head()"
   ]
  },
  {
   "cell_type": "code",
   "execution_count": 5,
   "metadata": {
    "execution": {
     "iopub.execute_input": "2020-12-30T09:15:59.396937Z",
     "iopub.status.busy": "2020-12-30T09:15:59.395633Z",
     "iopub.status.idle": "2020-12-30T09:15:59.400923Z",
     "shell.execute_reply": "2020-12-30T09:15:59.401426Z"
    },
    "papermill": {
     "duration": 0.041825,
     "end_time": "2020-12-30T09:15:59.401593",
     "exception": false,
     "start_time": "2020-12-30T09:15:59.359768",
     "status": "completed"
    },
    "tags": []
   },
   "outputs": [
    {
     "data": {
      "text/html": [
       "<div>\n",
       "<style scoped>\n",
       "    .dataframe tbody tr th:only-of-type {\n",
       "        vertical-align: middle;\n",
       "    }\n",
       "\n",
       "    .dataframe tbody tr th {\n",
       "        vertical-align: top;\n",
       "    }\n",
       "\n",
       "    .dataframe thead th {\n",
       "        text-align: right;\n",
       "    }\n",
       "</style>\n",
       "<table border=\"1\" class=\"dataframe\">\n",
       "  <thead>\n",
       "    <tr style=\"text-align: right;\">\n",
       "      <th></th>\n",
       "      <th>id</th>\n",
       "      <th>toxic</th>\n",
       "      <th>severe_toxic</th>\n",
       "      <th>obscene</th>\n",
       "      <th>threat</th>\n",
       "      <th>insult</th>\n",
       "      <th>identity_hate</th>\n",
       "    </tr>\n",
       "  </thead>\n",
       "  <tbody>\n",
       "    <tr>\n",
       "      <th>0</th>\n",
       "      <td>00001cee341fdb12</td>\n",
       "      <td>0.50</td>\n",
       "      <td>0.50</td>\n",
       "      <td>0.50</td>\n",
       "      <td>0.50</td>\n",
       "      <td>0.50</td>\n",
       "      <td>0.50</td>\n",
       "    </tr>\n",
       "    <tr>\n",
       "      <th>1</th>\n",
       "      <td>0000247867823ef7</td>\n",
       "      <td>0.50</td>\n",
       "      <td>0.50</td>\n",
       "      <td>0.50</td>\n",
       "      <td>0.50</td>\n",
       "      <td>0.50</td>\n",
       "      <td>0.50</td>\n",
       "    </tr>\n",
       "    <tr>\n",
       "      <th>2</th>\n",
       "      <td>00013b17ad220c46</td>\n",
       "      <td>0.50</td>\n",
       "      <td>0.50</td>\n",
       "      <td>0.50</td>\n",
       "      <td>0.50</td>\n",
       "      <td>0.50</td>\n",
       "      <td>0.50</td>\n",
       "    </tr>\n",
       "    <tr>\n",
       "      <th>3</th>\n",
       "      <td>00017563c3f7919a</td>\n",
       "      <td>0.50</td>\n",
       "      <td>0.50</td>\n",
       "      <td>0.50</td>\n",
       "      <td>0.50</td>\n",
       "      <td>0.50</td>\n",
       "      <td>0.50</td>\n",
       "    </tr>\n",
       "    <tr>\n",
       "      <th>4</th>\n",
       "      <td>00017695ad8997eb</td>\n",
       "      <td>0.50</td>\n",
       "      <td>0.50</td>\n",
       "      <td>0.50</td>\n",
       "      <td>0.50</td>\n",
       "      <td>0.50</td>\n",
       "      <td>0.50</td>\n",
       "    </tr>\n",
       "  </tbody>\n",
       "</table>\n",
       "</div>"
      ],
      "text/plain": [
       "                 id  toxic  severe_toxic  obscene  threat  insult  \\\n",
       "0  00001cee341fdb12   0.50          0.50     0.50    0.50    0.50   \n",
       "1  0000247867823ef7   0.50          0.50     0.50    0.50    0.50   \n",
       "2  00013b17ad220c46   0.50          0.50     0.50    0.50    0.50   \n",
       "3  00017563c3f7919a   0.50          0.50     0.50    0.50    0.50   \n",
       "4  00017695ad8997eb   0.50          0.50     0.50    0.50    0.50   \n",
       "\n",
       "   identity_hate  \n",
       "0           0.50  \n",
       "1           0.50  \n",
       "2           0.50  \n",
       "3           0.50  \n",
       "4           0.50  "
      ]
     },
     "execution_count": 5,
     "metadata": {},
     "output_type": "execute_result"
    }
   ],
   "source": [
    "sample_submission.head()"
   ]
  },
  {
   "cell_type": "code",
   "execution_count": 6,
   "metadata": {
    "execution": {
     "iopub.execute_input": "2020-12-30T09:15:59.453570Z",
     "iopub.status.busy": "2020-12-30T09:15:59.452537Z",
     "iopub.status.idle": "2020-12-30T09:15:59.519504Z",
     "shell.execute_reply": "2020-12-30T09:15:59.520013Z"
    },
    "papermill": {
     "duration": 0.094877,
     "end_time": "2020-12-30T09:15:59.520186",
     "exception": false,
     "start_time": "2020-12-30T09:15:59.425309",
     "status": "completed"
    },
    "tags": []
   },
   "outputs": [
    {
     "data": {
      "text/html": [
       "<div>\n",
       "<style scoped>\n",
       "    .dataframe tbody tr th:only-of-type {\n",
       "        vertical-align: middle;\n",
       "    }\n",
       "\n",
       "    .dataframe tbody tr th {\n",
       "        vertical-align: top;\n",
       "    }\n",
       "\n",
       "    .dataframe thead th {\n",
       "        text-align: right;\n",
       "    }\n",
       "</style>\n",
       "<table border=\"1\" class=\"dataframe\">\n",
       "  <thead>\n",
       "    <tr style=\"text-align: right;\">\n",
       "      <th></th>\n",
       "      <th>toxic</th>\n",
       "      <th>severe_toxic</th>\n",
       "      <th>obscene</th>\n",
       "      <th>threat</th>\n",
       "      <th>insult</th>\n",
       "      <th>identity_hate</th>\n",
       "    </tr>\n",
       "  </thead>\n",
       "  <tbody>\n",
       "    <tr>\n",
       "      <th>0</th>\n",
       "      <td>0.90</td>\n",
       "      <td>0.99</td>\n",
       "      <td>0.95</td>\n",
       "      <td>1.00</td>\n",
       "      <td>0.95</td>\n",
       "      <td>0.99</td>\n",
       "    </tr>\n",
       "    <tr>\n",
       "      <th>1</th>\n",
       "      <td>0.10</td>\n",
       "      <td>0.01</td>\n",
       "      <td>0.05</td>\n",
       "      <td>0.00</td>\n",
       "      <td>0.05</td>\n",
       "      <td>0.01</td>\n",
       "    </tr>\n",
       "  </tbody>\n",
       "</table>\n",
       "</div>"
      ],
      "text/plain": [
       "   toxic  severe_toxic  obscene  threat  insult  identity_hate\n",
       "0   0.90          0.99     0.95    1.00    0.95           0.99\n",
       "1   0.10          0.01     0.05    0.00    0.05           0.01"
      ]
     },
     "execution_count": 6,
     "metadata": {},
     "output_type": "execute_result"
    }
   ],
   "source": [
    "#Looking at the distribution of traget variables\n",
    "y_cols = [\"toxic\",\"severe_toxic\",\"obscene\",\"threat\",\"insult\",\"identity_hate\"]\n",
    "train_text[y_cols].apply(pd.Series.value_counts, args = (True, True, False, None, False))"
   ]
  },
  {
   "cell_type": "markdown",
   "metadata": {
    "papermill": {
     "duration": 0.024199,
     "end_time": "2020-12-30T09:15:59.568529",
     "exception": false,
     "start_time": "2020-12-30T09:15:59.544330",
     "status": "completed"
    },
    "tags": []
   },
   "source": [
    "We have around 160k training texts and about 153k test texts\n",
    "\n",
    "We have a class imbalance in almost all the training target variables.\n",
    "1. Toxic Statements: 10%\n",
    "2. Severe Toxic Statements: 1%\n",
    "3. Obscene Statements: 5%\n",
    "4. Threat Statements: 0.3%\n",
    "5. Insult Statements: 5%\n",
    "6. Identity Hate Statements: 0.9%"
   ]
  },
  {
   "cell_type": "markdown",
   "metadata": {
    "papermill": {
     "duration": 0.024027,
     "end_time": "2020-12-30T09:15:59.616989",
     "exception": false,
     "start_time": "2020-12-30T09:15:59.592962",
     "status": "completed"
    },
    "tags": []
   },
   "source": [
    "## 3. Splitting Dataset into training and validation sets <a class=\"anchor\" id=\"3\"></a>"
   ]
  },
  {
   "cell_type": "code",
   "execution_count": 7,
   "metadata": {
    "execution": {
     "iopub.execute_input": "2020-12-30T09:15:59.672707Z",
     "iopub.status.busy": "2020-12-30T09:15:59.671620Z",
     "iopub.status.idle": "2020-12-30T09:15:59.731790Z",
     "shell.execute_reply": "2020-12-30T09:15:59.732552Z"
    },
    "papermill": {
     "duration": 0.089878,
     "end_time": "2020-12-30T09:15:59.732736",
     "exception": false,
     "start_time": "2020-12-30T09:15:59.642858",
     "status": "completed"
    },
    "tags": []
   },
   "outputs": [],
   "source": [
    "#Dependent Variable\n",
    "X = train_text.comment_text\n",
    "#Independent Variables\n",
    "y = train_text[[\"toxic\",\"severe_toxic\",\"obscene\",\"threat\",\"insult\",\"identity_hate\"]]\n",
    "#Splitting for checking the performance of the models on a holdout dataset\n",
    "X_train, X_val, y_train, y_val = train_test_split(X, y, shuffle = True, random_state = 123)"
   ]
  },
  {
   "cell_type": "code",
   "execution_count": 8,
   "metadata": {
    "execution": {
     "iopub.execute_input": "2020-12-30T09:15:59.786204Z",
     "iopub.status.busy": "2020-12-30T09:15:59.785194Z",
     "iopub.status.idle": "2020-12-30T09:15:59.791044Z",
     "shell.execute_reply": "2020-12-30T09:15:59.791614Z"
    },
    "papermill": {
     "duration": 0.034421,
     "end_time": "2020-12-30T09:15:59.791771",
     "exception": false,
     "start_time": "2020-12-30T09:15:59.757350",
     "status": "completed"
    },
    "tags": []
   },
   "outputs": [
    {
     "data": {
      "text/plain": [
       "((119678,), (39893,))"
      ]
     },
     "execution_count": 8,
     "metadata": {},
     "output_type": "execute_result"
    }
   ],
   "source": [
    "X_train.shape, X_val.shape"
   ]
  },
  {
   "cell_type": "markdown",
   "metadata": {
    "papermill": {
     "duration": 0.0246,
     "end_time": "2020-12-30T09:15:59.841191",
     "exception": false,
     "start_time": "2020-12-30T09:15:59.816591",
     "status": "completed"
    },
    "tags": []
   },
   "source": [
    "## 4. Basic Preprocessing and Creating Bag of Words <a class=\"anchor\" id=\"4\"></a>"
   ]
  },
  {
   "cell_type": "code",
   "execution_count": 9,
   "metadata": {
    "execution": {
     "iopub.execute_input": "2020-12-30T09:15:59.895551Z",
     "iopub.status.busy": "2020-12-30T09:15:59.894524Z",
     "iopub.status.idle": "2020-12-30T09:15:59.901646Z",
     "shell.execute_reply": "2020-12-30T09:15:59.902195Z"
    },
    "papermill": {
     "duration": 0.036075,
     "end_time": "2020-12-30T09:15:59.902344",
     "exception": false,
     "start_time": "2020-12-30T09:15:59.866269",
     "status": "completed"
    },
    "tags": []
   },
   "outputs": [],
   "source": [
    "#importing stop words like in, the, of so that these can be removed from texts\n",
    "#as these words dont help in determining the classes(Whether a sentence is toxic or not)\n",
    "stop_words = stop_words.ENGLISH_STOP_WORDS\n",
    "#Function for basic cleaning/preprocessing texts\n",
    "def clean(doc):\n",
    "    # Removal of punctuation marks (.,/\\][{} etc) and numbers\n",
    "    doc = \"\".join([char for char in doc if char not in string.punctuation and not char.isdigit()])\n",
    "    # Removal of stopwords\n",
    "    doc = \" \".join([token for token in doc.split() if token not in stop_words])\n",
    "    return doc.lower()"
   ]
  },
  {
   "cell_type": "markdown",
   "metadata": {
    "papermill": {
     "duration": 0.02468,
     "end_time": "2020-12-30T09:15:59.951988",
     "exception": false,
     "start_time": "2020-12-30T09:15:59.927308",
     "status": "completed"
    },
    "tags": []
   },
   "source": [
    "Creating a bag of words model with a maximum of 5000 most-frequent words (as including all the words will make the dataset sparse and will only add noise).Also, Clean the dataset when creating the dataset using bag of words"
   ]
  },
  {
   "cell_type": "code",
   "execution_count": 10,
   "metadata": {
    "execution": {
     "iopub.execute_input": "2020-12-30T09:16:00.007313Z",
     "iopub.status.busy": "2020-12-30T09:16:00.006247Z",
     "iopub.status.idle": "2020-12-30T09:16:25.586283Z",
     "shell.execute_reply": "2020-12-30T09:16:25.586814Z"
    },
    "papermill": {
     "duration": 25.609276,
     "end_time": "2020-12-30T09:16:25.586965",
     "exception": false,
     "start_time": "2020-12-30T09:15:59.977689",
     "status": "completed"
    },
    "tags": []
   },
   "outputs": [
    {
     "name": "stdout",
     "output_type": "stream",
     "text": [
      "(119678, 5000) (39893, 5000)\n"
     ]
    }
   ],
   "source": [
    "vect = CountVectorizer(max_features= 5000, preprocessor=clean)\n",
    "X_train_dtm = vect.fit_transform(X_train)\n",
    "X_val_dtm = vect.transform(X_val)\n",
    "\n",
    "print(X_train_dtm.shape, X_val_dtm.shape)"
   ]
  },
  {
   "cell_type": "markdown",
   "metadata": {
    "papermill": {
     "duration": 0.025166,
     "end_time": "2020-12-30T09:16:25.637865",
     "exception": false,
     "start_time": "2020-12-30T09:16:25.612699",
     "status": "completed"
    },
    "tags": []
   },
   "source": [
    "As we can see the same number of rows in train and validation dataset but 5000 columns which are essentially number of occurences of the 5000 most common words in each sentence"
   ]
  },
  {
   "cell_type": "code",
   "execution_count": 11,
   "metadata": {
    "execution": {
     "iopub.execute_input": "2020-12-30T09:16:25.696246Z",
     "iopub.status.busy": "2020-12-30T09:16:25.695554Z",
     "iopub.status.idle": "2020-12-30T09:16:28.230382Z",
     "shell.execute_reply": "2020-12-30T09:16:28.229594Z"
    },
    "papermill": {
     "duration": 2.5663,
     "end_time": "2020-12-30T09:16:28.230513",
     "exception": false,
     "start_time": "2020-12-30T09:16:25.664213",
     "status": "completed"
    },
    "tags": []
   },
   "outputs": [
    {
     "data": {
      "text/html": [
       "<div>\n",
       "<style scoped>\n",
       "    .dataframe tbody tr th:only-of-type {\n",
       "        vertical-align: middle;\n",
       "    }\n",
       "\n",
       "    .dataframe tbody tr th {\n",
       "        vertical-align: top;\n",
       "    }\n",
       "\n",
       "    .dataframe thead th {\n",
       "        text-align: right;\n",
       "    }\n",
       "</style>\n",
       "<table border=\"1\" class=\"dataframe\">\n",
       "  <thead>\n",
       "    <tr style=\"text-align: right;\">\n",
       "      <th></th>\n",
       "      <th>abc</th>\n",
       "      <th>abide</th>\n",
       "      <th>ability</th>\n",
       "      <th>able</th>\n",
       "      <th>abortion</th>\n",
       "      <th>about</th>\n",
       "      <th>absence</th>\n",
       "      <th>absolute</th>\n",
       "      <th>absolutely</th>\n",
       "      <th>absurd</th>\n",
       "      <th>...</th>\n",
       "      <th>yourselfgo</th>\n",
       "      <th>youth</th>\n",
       "      <th>youtube</th>\n",
       "      <th>youve</th>\n",
       "      <th>ytmndin</th>\n",
       "      <th>yugoslavia</th>\n",
       "      <th>zealand</th>\n",
       "      <th>zero</th>\n",
       "      <th>zionist</th>\n",
       "      <th>zone</th>\n",
       "    </tr>\n",
       "  </thead>\n",
       "  <tbody>\n",
       "    <tr>\n",
       "      <th>0</th>\n",
       "      <td>0</td>\n",
       "      <td>0</td>\n",
       "      <td>0</td>\n",
       "      <td>0</td>\n",
       "      <td>0</td>\n",
       "      <td>0</td>\n",
       "      <td>0</td>\n",
       "      <td>0</td>\n",
       "      <td>0</td>\n",
       "      <td>0</td>\n",
       "      <td>...</td>\n",
       "      <td>0</td>\n",
       "      <td>0</td>\n",
       "      <td>0</td>\n",
       "      <td>0</td>\n",
       "      <td>0</td>\n",
       "      <td>0</td>\n",
       "      <td>0</td>\n",
       "      <td>0</td>\n",
       "      <td>0</td>\n",
       "      <td>0</td>\n",
       "    </tr>\n",
       "    <tr>\n",
       "      <th>1</th>\n",
       "      <td>0</td>\n",
       "      <td>0</td>\n",
       "      <td>0</td>\n",
       "      <td>0</td>\n",
       "      <td>0</td>\n",
       "      <td>0</td>\n",
       "      <td>0</td>\n",
       "      <td>0</td>\n",
       "      <td>0</td>\n",
       "      <td>0</td>\n",
       "      <td>...</td>\n",
       "      <td>0</td>\n",
       "      <td>0</td>\n",
       "      <td>0</td>\n",
       "      <td>0</td>\n",
       "      <td>0</td>\n",
       "      <td>0</td>\n",
       "      <td>0</td>\n",
       "      <td>0</td>\n",
       "      <td>0</td>\n",
       "      <td>0</td>\n",
       "    </tr>\n",
       "    <tr>\n",
       "      <th>2</th>\n",
       "      <td>0</td>\n",
       "      <td>0</td>\n",
       "      <td>0</td>\n",
       "      <td>0</td>\n",
       "      <td>0</td>\n",
       "      <td>0</td>\n",
       "      <td>0</td>\n",
       "      <td>0</td>\n",
       "      <td>0</td>\n",
       "      <td>0</td>\n",
       "      <td>...</td>\n",
       "      <td>0</td>\n",
       "      <td>0</td>\n",
       "      <td>0</td>\n",
       "      <td>0</td>\n",
       "      <td>0</td>\n",
       "      <td>0</td>\n",
       "      <td>0</td>\n",
       "      <td>0</td>\n",
       "      <td>0</td>\n",
       "      <td>0</td>\n",
       "    </tr>\n",
       "    <tr>\n",
       "      <th>3</th>\n",
       "      <td>0</td>\n",
       "      <td>0</td>\n",
       "      <td>0</td>\n",
       "      <td>0</td>\n",
       "      <td>0</td>\n",
       "      <td>0</td>\n",
       "      <td>0</td>\n",
       "      <td>0</td>\n",
       "      <td>0</td>\n",
       "      <td>0</td>\n",
       "      <td>...</td>\n",
       "      <td>0</td>\n",
       "      <td>0</td>\n",
       "      <td>0</td>\n",
       "      <td>0</td>\n",
       "      <td>0</td>\n",
       "      <td>0</td>\n",
       "      <td>0</td>\n",
       "      <td>0</td>\n",
       "      <td>0</td>\n",
       "      <td>0</td>\n",
       "    </tr>\n",
       "    <tr>\n",
       "      <th>4</th>\n",
       "      <td>0</td>\n",
       "      <td>0</td>\n",
       "      <td>0</td>\n",
       "      <td>0</td>\n",
       "      <td>0</td>\n",
       "      <td>0</td>\n",
       "      <td>0</td>\n",
       "      <td>0</td>\n",
       "      <td>0</td>\n",
       "      <td>0</td>\n",
       "      <td>...</td>\n",
       "      <td>0</td>\n",
       "      <td>0</td>\n",
       "      <td>0</td>\n",
       "      <td>0</td>\n",
       "      <td>0</td>\n",
       "      <td>0</td>\n",
       "      <td>0</td>\n",
       "      <td>0</td>\n",
       "      <td>0</td>\n",
       "      <td>0</td>\n",
       "    </tr>\n",
       "  </tbody>\n",
       "</table>\n",
       "<p>5 rows × 5000 columns</p>\n",
       "</div>"
      ],
      "text/plain": [
       "   abc  abide  ability  able  abortion  about  absence  absolute  absolutely  \\\n",
       "0    0      0        0     0         0      0        0         0           0   \n",
       "1    0      0        0     0         0      0        0         0           0   \n",
       "2    0      0        0     0         0      0        0         0           0   \n",
       "3    0      0        0     0         0      0        0         0           0   \n",
       "4    0      0        0     0         0      0        0         0           0   \n",
       "\n",
       "   absurd  ...  yourselfgo  youth  youtube  youve  ytmndin  yugoslavia  \\\n",
       "0       0  ...           0      0        0      0        0           0   \n",
       "1       0  ...           0      0        0      0        0           0   \n",
       "2       0  ...           0      0        0      0        0           0   \n",
       "3       0  ...           0      0        0      0        0           0   \n",
       "4       0  ...           0      0        0      0        0           0   \n",
       "\n",
       "   zealand  zero  zionist  zone  \n",
       "0        0     0        0     0  \n",
       "1        0     0        0     0  \n",
       "2        0     0        0     0  \n",
       "3        0     0        0     0  \n",
       "4        0     0        0     0  \n",
       "\n",
       "[5 rows x 5000 columns]"
      ]
     },
     "execution_count": 11,
     "metadata": {},
     "output_type": "execute_result"
    }
   ],
   "source": [
    "pd.DataFrame(X_train_dtm.A[:5], columns = vect.get_feature_names())"
   ]
  },
  {
   "cell_type": "markdown",
   "metadata": {
    "papermill": {
     "duration": 0.026809,
     "end_time": "2020-12-30T09:16:28.284145",
     "exception": false,
     "start_time": "2020-12-30T09:16:28.257336",
     "status": "completed"
    },
    "tags": []
   },
   "source": [
    "Above, we can see the bag of words.For e.g. abide is present in 1st sentence 0 times\n",
    "The Bag of words is pretty much sparse\n",
    "This will be the input for a Machine Learning Classifier"
   ]
  },
  {
   "cell_type": "markdown",
   "metadata": {
    "papermill": {
     "duration": 0.027195,
     "end_time": "2020-12-30T09:16:28.339626",
     "exception": false,
     "start_time": "2020-12-30T09:16:28.312431",
     "status": "completed"
    },
    "tags": []
   },
   "source": [
    "## 5. Initialising and Training Multi Output Classifier Models <a class=\"anchor\" id=\"5\"></a>\n",
    "\n",
    "Since we need to classify each sentence as toxic or not, severe_toxic or not, obscene or not, threat or not, insult or not and identity_hate or not, we need to classify the sentence against 6 output variables (This is called Multi-Label Classification which is different from mult-class classification where a target variable has more than 2 options e.g. a sentence can be positive, negative and neutral)\n",
    "\n",
    "For the same, we will be using MultiOutputClassifier from sklearn which as mentioned earlier is a wrapper.This strategy consists of fitting one classifier per target."
   ]
  },
  {
   "cell_type": "code",
   "execution_count": 12,
   "metadata": {
    "execution": {
     "iopub.execute_input": "2020-12-30T09:16:28.403427Z",
     "iopub.status.busy": "2020-12-30T09:16:28.402665Z",
     "iopub.status.idle": "2020-12-30T09:18:28.832505Z",
     "shell.execute_reply": "2020-12-30T09:18:28.831779Z"
    },
    "papermill": {
     "duration": 120.465998,
     "end_time": "2020-12-30T09:18:28.832643",
     "exception": false,
     "start_time": "2020-12-30T09:16:28.366645",
     "status": "completed"
    },
    "tags": []
   },
   "outputs": [],
   "source": [
    "#Initializing and fitting models on Training Data\n",
    "#Naive Bayes Model\n",
    "nb = MultiOutputClassifier(MultinomialNB()).fit(X_train_dtm, y_train)\n",
    "#Logistic Regression Model (As we have unbalanced dataset, we use class_weight which will use inverse\n",
    "#of counts of that class. It penalizes mistakes in samples of class[i] with class_weight[i] instead of 1)\n",
    "lr = MultiOutputClassifier(LogisticRegression(class_weight='balanced', max_iter=3000)) \\\n",
    "                    .fit(X_train_dtm, y_train)"
   ]
  },
  {
   "cell_type": "markdown",
   "metadata": {
    "papermill": {
     "duration": 0.027654,
     "end_time": "2020-12-30T09:18:28.890382",
     "exception": false,
     "start_time": "2020-12-30T09:18:28.862728",
     "status": "completed"
    },
    "tags": []
   },
   "source": [
    "I tried using Support Vector Classifier as well, but that took a lot of time to train without giving the best results"
   ]
  },
  {
   "cell_type": "markdown",
   "metadata": {
    "papermill": {
     "duration": 0.027097,
     "end_time": "2020-12-30T09:18:28.945596",
     "exception": false,
     "start_time": "2020-12-30T09:18:28.918499",
     "status": "completed"
    },
    "tags": []
   },
   "source": [
    "## 6. Measuring performance on Validation data <a class=\"anchor\" id=\"6\"></a>\n",
    "Since, the competition uses mean ROC-AUC as the evaluation metric, we will be using the same in the notebook.\n",
    "We will compare the mean ROC-AUC across all the 3 models we have trained.\n",
    "We will be using predict_proba function of models instead of predict which gives us the probability scores instead of predicted value based on a threshold of 0.5, as it is used by the roc_auc_measure."
   ]
  },
  {
   "cell_type": "code",
   "execution_count": 13,
   "metadata": {
    "execution": {
     "iopub.execute_input": "2020-12-30T09:18:29.003402Z",
     "iopub.status.busy": "2020-12-30T09:18:29.002382Z",
     "iopub.status.idle": "2020-12-30T09:18:29.009064Z",
     "shell.execute_reply": "2020-12-30T09:18:29.009723Z"
    },
    "papermill": {
     "duration": 0.037285,
     "end_time": "2020-12-30T09:18:29.009872",
     "exception": false,
     "start_time": "2020-12-30T09:18:28.972587",
     "status": "completed"
    },
    "tags": []
   },
   "outputs": [],
   "source": [
    "#Function for calculating roc auc with given actual binary values across target variables\n",
    "#and the probability score made by the model\n",
    "def calculate_roc_auc(y_test, y_pred):\n",
    "    aucs = []\n",
    "    #Calculate the ROC-AUC for each of the target column\n",
    "    for col in range(y_test.shape[1]):\n",
    "        aucs.append(roc_auc_score(y_test[:,col],y_pred[:,col]))\n",
    "    return aucs"
   ]
  },
  {
   "cell_type": "code",
   "execution_count": 14,
   "metadata": {
    "execution": {
     "iopub.execute_input": "2020-12-30T09:18:29.066639Z",
     "iopub.status.busy": "2020-12-30T09:18:29.065638Z",
     "iopub.status.idle": "2020-12-30T09:18:29.324806Z",
     "shell.execute_reply": "2020-12-30T09:18:29.324081Z"
    },
    "papermill": {
     "duration": 0.288448,
     "end_time": "2020-12-30T09:18:29.324925",
     "exception": false,
     "start_time": "2020-12-30T09:18:29.036477",
     "status": "completed"
    },
    "tags": []
   },
   "outputs": [
    {
     "data": {
      "text/html": [
       "<div>\n",
       "<style scoped>\n",
       "    .dataframe tbody tr th:only-of-type {\n",
       "        vertical-align: middle;\n",
       "    }\n",
       "\n",
       "    .dataframe tbody tr th {\n",
       "        vertical-align: top;\n",
       "    }\n",
       "\n",
       "    .dataframe thead th {\n",
       "        text-align: right;\n",
       "    }\n",
       "</style>\n",
       "<table border=\"1\" class=\"dataframe\">\n",
       "  <thead>\n",
       "    <tr style=\"text-align: right;\">\n",
       "      <th></th>\n",
       "      <th>Model</th>\n",
       "      <th>Mean AUC</th>\n",
       "    </tr>\n",
       "  </thead>\n",
       "  <tbody>\n",
       "    <tr>\n",
       "      <th>0</th>\n",
       "      <td>MultinomialNB</td>\n",
       "      <td>0.94</td>\n",
       "    </tr>\n",
       "    <tr>\n",
       "      <th>1</th>\n",
       "      <td>LogisticRegression</td>\n",
       "      <td>0.94</td>\n",
       "    </tr>\n",
       "  </tbody>\n",
       "</table>\n",
       "</div>"
      ],
      "text/plain": [
       "                Model  Mean AUC\n",
       "0       MultinomialNB      0.94\n",
       "1  LogisticRegression      0.94"
      ]
     },
     "execution_count": 14,
     "metadata": {},
     "output_type": "execute_result"
    }
   ],
   "source": [
    "#Creating an empty list of results\n",
    "results = []\n",
    "#Making predictions from all the trained models and measure performance for each\n",
    "for model in [nb,lr]:\n",
    "    #Extracting name of the model\n",
    "    est = type(model.estimator).__name__\n",
    "    #Actual output variables\n",
    "    y_vals = y_val.to_numpy()\n",
    "    #Model Probabilities for class 1 of each of the target variables\n",
    "    y_preds = np.transpose(np.array(model.predict_proba(X_val_dtm))[:,:,1])\n",
    "    #Calculate Mean of the ROC-AUC\n",
    "    mean_auc = mean(calculate_roc_auc(y_vals,y_preds))\n",
    "    #Append the name of the model and the mean_roc_auc into the results list\n",
    "    results.append([est, mean_auc])\n",
    "    \n",
    "#Output the results as a table\n",
    "pd.DataFrame(results, columns = [\"Model\",\"Mean AUC\"])"
   ]
  },
  {
   "cell_type": "markdown",
   "metadata": {
    "papermill": {
     "duration": 0.026773,
     "end_time": "2020-12-30T09:18:29.378971",
     "exception": false,
     "start_time": "2020-12-30T09:18:29.352198",
     "status": "completed"
    },
    "tags": []
   },
   "source": [
    "As we can see, Both the models perform really good with LR performing slightly better. So, we will use it as the final model to submit the predictions for the test data. Also, these simple models give pretty good results without much of a hassle or technical know-how, that is why they are still used widely.\n",
    "\n",
    "A bit on Logistic Regression is no harm.\n",
    "\n",
    "The ***logistic model*** (or logit model) is used to model the probability of a certain class or event existing such as pass/fail, win/lose, alive/dead or healthy/sick. This can be extended to model several classes of events such as determining whether an image contains a cat, dog, lion, etc. **Each object being detected in the image would be assigned a probability between 0 and 1, with a sum of one.**\n",
    "\n",
    "Below is the image most commonly used image for Logistic Regression\n",
    "![](https://www.saedsayad.com/images/LogReg_1.png)\n",
    "\n",
    "By simple transformation, the logistic regression equation can be written in terms of an odds ratio.\n",
    "![](https://www.saedsayad.com/images/Logistic_odd.png)\n",
    "\n",
    "Finally, taking the natural log of both sides, we can write the equation in terms of log-odds (logit) which is a linear function of the predictors.\n",
    "![](https://www.saedsayad.com/images/Logit.png)\n",
    "\n",
    "The coefficient (b1) is the amount the logit (log-odds) changes with a one unit change in x. \n",
    "\n",
    "For e.g. if the equation is 1+2x i.e. b0 = 1 and b1 = 2. \n",
    "Increasing x by 1 increases the log-odds by 2 and the odds that Y=1 increase by a factor of 10^2 . Note that the probability of Y=1 has also increased, but it has not increased by as much as the odds have increased.\n",
    "\n",
    "This was about the logistic function.\n",
    "\n",
    "Now to find the best dividing line (in other terms reduce the loss function), Logistic Regression also use Gradient Descent but with a different loss function (Linear Regression uses Mean squared error). Logistic Regression uses log loss/ maximum likelihood estimation (MLE) function\n",
    "\n",
    "![](https://i.stack.imgur.com/XbU4S.png)\n",
    "\n",
    "where m is the number of samples (as we take the average), y is the actual value and h(x) is the ouput of the model"
   ]
  },
  {
   "cell_type": "markdown",
   "metadata": {
    "papermill": {
     "duration": 0.026607,
     "end_time": "2020-12-30T09:18:29.432820",
     "exception": false,
     "start_time": "2020-12-30T09:18:29.406213",
     "status": "completed"
    },
    "tags": []
   },
   "source": [
    "## 7. Predicting and Submitting for Test Data <a class=\"anchor\" id=\"7\"></a>"
   ]
  },
  {
   "cell_type": "code",
   "execution_count": 15,
   "metadata": {
    "execution": {
     "iopub.execute_input": "2020-12-30T09:18:29.502695Z",
     "iopub.status.busy": "2020-12-30T09:18:29.501907Z",
     "iopub.status.idle": "2020-12-30T09:18:55.174778Z",
     "shell.execute_reply": "2020-12-30T09:18:55.173659Z"
    },
    "papermill": {
     "duration": 25.710347,
     "end_time": "2020-12-30T09:18:55.174926",
     "exception": false,
     "start_time": "2020-12-30T09:18:29.464579",
     "status": "completed"
    },
    "tags": []
   },
   "outputs": [],
   "source": [
    "# Merging the test dataset with sample_submission to have all the columns:\n",
    "#id,text_data and the target variables in one dataframe\n",
    "df_test = pd.merge(test_text, sample_submission, on = \"id\")\n",
    "#Transform the test dataset as well based on Bag of Words/ Count Vectorizer as the Logistic model would \n",
    "#expect the same\n",
    "X_test_dtm = vect.transform(df_test[\"comment_text\"])\n",
    "#Use the Logistic Regression model to output probabilities and take the probability for class 1\n",
    "y_preds = np.transpose(np.array(lr.predict_proba(X_test_dtm))[:,:,1])\n",
    "#Assign the predictions by the model in the final test dataset\n",
    "df_test[y_cols] = y_preds\n",
    "#Drop Comment Text as the sample submission doesnt have it and wouldnt be expected\n",
    "df_test.drop([\"comment_text\"], axis = 1, inplace = True)\n",
    "#Save the dataset as a csv to submit it\n",
    "df_test.to_csv(\"sample_submission.csv\", index = False)"
   ]
  },
  {
   "cell_type": "markdown",
   "metadata": {
    "papermill": {
     "duration": 0.027298,
     "end_time": "2020-12-30T09:18:55.230033",
     "exception": false,
     "start_time": "2020-12-30T09:18:55.202735",
     "status": "completed"
    },
    "tags": []
   },
   "source": [
    "## 8. Model Interpretation <a class=\"anchor\" id=\"8\"></a>\n",
    "This is the most exciting part atleast for me. Since, we are just using a simple Logistic Regression model, we can directly use the coefficient values of the model to get an understanding of the predictions made. By doing so, which feature is importance or which word makes a sentence toxic. If we would use a complex model, we could go for SHAP or LIME.\n",
    "Also, since we have 6 output variables, we will have 6 feature importances which will be interesting to see"
   ]
  },
  {
   "cell_type": "code",
   "execution_count": 16,
   "metadata": {
    "execution": {
     "iopub.execute_input": "2020-12-30T09:18:55.303171Z",
     "iopub.status.busy": "2020-12-30T09:18:55.301736Z",
     "iopub.status.idle": "2020-12-30T09:18:55.375313Z",
     "shell.execute_reply": "2020-12-30T09:18:55.374704Z"
    },
    "papermill": {
     "duration": 0.116349,
     "end_time": "2020-12-30T09:18:55.375431",
     "exception": false,
     "start_time": "2020-12-30T09:18:55.259082",
     "status": "completed"
    },
    "tags": []
   },
   "outputs": [
    {
     "data": {
      "text/html": [
       "<div>\n",
       "<style scoped>\n",
       "    .dataframe tbody tr th:only-of-type {\n",
       "        vertical-align: middle;\n",
       "    }\n",
       "\n",
       "    .dataframe tbody tr th {\n",
       "        vertical-align: top;\n",
       "    }\n",
       "\n",
       "    .dataframe thead th {\n",
       "        text-align: right;\n",
       "    }\n",
       "</style>\n",
       "<table border=\"1\" class=\"dataframe\">\n",
       "  <thead>\n",
       "    <tr style=\"text-align: right;\">\n",
       "      <th></th>\n",
       "      <th>word</th>\n",
       "      <th>toxic</th>\n",
       "      <th>severe_toxic</th>\n",
       "      <th>obscene</th>\n",
       "      <th>threat</th>\n",
       "      <th>insult</th>\n",
       "      <th>identity_hate</th>\n",
       "    </tr>\n",
       "  </thead>\n",
       "  <tbody>\n",
       "    <tr>\n",
       "      <th>0</th>\n",
       "      <td>abc</td>\n",
       "      <td>-0.96</td>\n",
       "      <td>-0.27</td>\n",
       "      <td>-0.78</td>\n",
       "      <td>-1.14</td>\n",
       "      <td>0.14</td>\n",
       "      <td>-0.77</td>\n",
       "    </tr>\n",
       "    <tr>\n",
       "      <th>1</th>\n",
       "      <td>abide</td>\n",
       "      <td>-0.71</td>\n",
       "      <td>-0.03</td>\n",
       "      <td>0.31</td>\n",
       "      <td>-0.18</td>\n",
       "      <td>-0.42</td>\n",
       "      <td>-0.15</td>\n",
       "    </tr>\n",
       "    <tr>\n",
       "      <th>2</th>\n",
       "      <td>ability</td>\n",
       "      <td>0.31</td>\n",
       "      <td>-0.34</td>\n",
       "      <td>-0.13</td>\n",
       "      <td>-0.33</td>\n",
       "      <td>-0.39</td>\n",
       "      <td>-0.90</td>\n",
       "    </tr>\n",
       "    <tr>\n",
       "      <th>3</th>\n",
       "      <td>able</td>\n",
       "      <td>-0.47</td>\n",
       "      <td>-0.47</td>\n",
       "      <td>0.02</td>\n",
       "      <td>-1.49</td>\n",
       "      <td>-0.81</td>\n",
       "      <td>-0.86</td>\n",
       "    </tr>\n",
       "    <tr>\n",
       "      <th>4</th>\n",
       "      <td>abortion</td>\n",
       "      <td>-1.37</td>\n",
       "      <td>-0.07</td>\n",
       "      <td>0.56</td>\n",
       "      <td>-0.05</td>\n",
       "      <td>0.58</td>\n",
       "      <td>0.87</td>\n",
       "    </tr>\n",
       "  </tbody>\n",
       "</table>\n",
       "</div>"
      ],
      "text/plain": [
       "       word  toxic  severe_toxic  obscene  threat  insult  identity_hate\n",
       "0       abc  -0.96         -0.27    -0.78   -1.14    0.14          -0.77\n",
       "1     abide  -0.71         -0.03     0.31   -0.18   -0.42          -0.15\n",
       "2   ability   0.31         -0.34    -0.13   -0.33   -0.39          -0.90\n",
       "3      able  -0.47         -0.47     0.02   -1.49   -0.81          -0.86\n",
       "4  abortion  -1.37         -0.07     0.56   -0.05    0.58           0.87"
      ]
     },
     "execution_count": 16,
     "metadata": {},
     "output_type": "execute_result"
    }
   ],
   "source": [
    "#Assigning the feature names to an empty list\n",
    "feat_impts = [vect.get_feature_names()]\n",
    "#For all the models save the feature importances in the list.estimators_ would give the internal models used by the multioutput regressor\n",
    "for clf in lr.estimators_:\n",
    "    feat_impts.append(clf.coef_.flatten())\n",
    "#Saving the results in a dataframe\n",
    "df_feats_impts = pd.DataFrame(np.transpose(np.array(feat_impts)), columns = [\"word\",\"toxic\",\"severe_toxic\",\"obscene\",\"threat\",\"insult\",\"identity_hate\"])\n",
    "#Converting Feature Importance Columns from string to float\n",
    "df_feats_impts[y_cols] = df_feats_impts[y_cols].astype(\"float32\")\n",
    "df_feats_impts.head()"
   ]
  },
  {
   "cell_type": "markdown",
   "metadata": {
    "papermill": {
     "duration": 0.027756,
     "end_time": "2020-12-30T09:18:55.431418",
     "exception": false,
     "start_time": "2020-12-30T09:18:55.403662",
     "status": "completed"
    },
    "tags": []
   },
   "source": [
    "We will look at Top 5 words which determine if the sentence is a toxic-type or not according to the model"
   ]
  },
  {
   "cell_type": "code",
   "execution_count": 17,
   "metadata": {
    "execution": {
     "iopub.execute_input": "2020-12-30T09:18:55.501988Z",
     "iopub.status.busy": "2020-12-30T09:18:55.496681Z",
     "iopub.status.idle": "2020-12-30T09:18:56.560637Z",
     "shell.execute_reply": "2020-12-30T09:18:56.560011Z"
    },
    "papermill": {
     "duration": 1.101173,
     "end_time": "2020-12-30T09:18:56.560749",
     "exception": false,
     "start_time": "2020-12-30T09:18:55.459576",
     "status": "completed"
    },
    "tags": []
   },
   "outputs": [
    {
     "data": {
      "image/png": "[encoded data removed]",
      "text/plain": [
       "<Figure size 720x360 with 6 Axes>"
      ]
     },
     "metadata": {
      "needs_background": "light"
     },
     "output_type": "display_data"
    }
   ],
   "source": [
    "#Creating Individual Feature Importance table by sorting on specific toxic-type column and selecting top 5 words\n",
    "toxic_fi = df_feats_impts[[\"word\",\"toxic\"]].sort_values(by = \"toxic\", ascending = False).head()\n",
    "severe_toxic_fi = df_feats_impts[[\"word\",\"severe_toxic\"]].sort_values(by = \"severe_toxic\", ascending = False).head()\n",
    "obscene_fi = df_feats_impts[[\"word\",\"obscene\"]].sort_values(by = \"obscene\", ascending = False).head()\n",
    "threat_fi = df_feats_impts[[\"word\",\"threat\"]].sort_values(by = \"threat\", ascending = False).head()\n",
    "insult_fi = df_feats_impts[[\"word\",\"insult\"]].sort_values(by = \"insult\", ascending = False).head()\n",
    "identity_hate_fi = df_feats_impts[[\"word\",\"identity_hate\"]].sort_values(by = \"identity_hate\", ascending = False).head()\n",
    "\n",
    "#Plotting top 5 words based on coefficient values from the LR model\n",
    "fig,(ax1, ax2) =  plt.subplots(2,3,figsize=(10,5))\n",
    "sns.barplot(x = \"toxic\", y = \"word\", ax = ax1[0], data = toxic_fi)\n",
    "sns.barplot(x = \"severe_toxic\", y = \"word\", ax = ax1[1], data = severe_toxic_fi)\n",
    "sns.barplot(x = \"obscene\", y = \"word\", ax = ax1[2], data = obscene_fi)\n",
    "sns.barplot(x = \"threat\", y = \"word\", ax = ax2[0], data = threat_fi)\n",
    "sns.barplot(x = \"insult\", y = \"word\", ax = ax2[1], data = insult_fi)\n",
    "sns.barplot(x = \"identity_hate\", y = \"word\", ax = ax2[2], data = identity_hate_fi)\n",
    "plt.suptitle(\"Feature Importance\")\n",
    "fig.tight_layout(rect=[0, 0.03, 1, 0.95])\n",
    "plt.show()"
   ]
  },
  {
   "cell_type": "markdown",
   "metadata": {
    "papermill": {
     "duration": 0.030604,
     "end_time": "2020-12-30T09:18:56.621521",
     "exception": false,
     "start_time": "2020-12-30T09:18:56.590917",
     "status": "completed"
    },
    "tags": []
   },
   "source": [
    "We can see that the models are quite rightly selecting the most important features and it makes complete sense\n",
    "\n",
    "For e.g. for threats - words like kill, shoot, destroy etc are most important\n",
    "\n",
    "for identity hate - words like nigger, nigga, homosexual, faggot\n",
    "\n",
    "most important words for toxic are less extreme than most important words for severe toxic."
   ]
  },
  {
   "cell_type": "markdown",
   "metadata": {
    "papermill": {
     "duration": 0.028906,
     "end_time": "2020-12-30T09:18:56.679510",
     "exception": false,
     "start_time": "2020-12-30T09:18:56.650604",
     "status": "completed"
    },
    "tags": []
   },
   "source": [
    "## 9. TODOs: <a class=\"anchor\" id=\"9\"></a>\n",
    "1. Try TF-IDF instead of CountVectorizer \n",
    "TF-IDF tend to perform better than CountVectorizer in some cases\n",
    "2. Try ensemble models instead of Vanilla ML models\n",
    "Bagging and Boosting models give better results than classic ML techniques in most cases\n",
    "3. Better Text Preprocessing\n",
    "Typo correction etc can be done to further improve the model"
   ]
  },
  {
   "cell_type": "markdown",
   "metadata": {
    "papermill": {
     "duration": 0.028812,
     "end_time": "2020-12-30T09:18:56.739561",
     "exception": false,
     "start_time": "2020-12-30T09:18:56.710749",
     "status": "completed"
    },
    "tags": []
   },
   "source": [
    "***Do upvote if you find it helpful 😁***"
   ]
  }
 ],
 "metadata": {
  "kernelspec": {
   "display_name": "Python 3",
   "language": "python",
   "name": "python3"
  },
  "language_info": {
   "codemirror_mode": {
    "name": "ipython",
    "version": 3
   },
   "file_extension": ".py",
   "mimetype": "text/x-python",
   "name": "python",
   "nbconvert_exporter": "python",
   "pygments_lexer": "ipython3",
   "version": "3.7.6"
  },
  "papermill": {
   "duration": 190.019825,
   "end_time": "2020-12-30T09:18:56.980859",
   "environment_variables": {},
   "exception": null,
   "input_path": "__notebook__.ipynb",
   "output_path": "__notebook__.ipynb",
   "parameters": {},
   "start_time": "2020-12-30T09:15:46.961034",
   "version": "2.1.0"
  }
 },
 "nbformat": 4,
 "nbformat_minor": 4
}
