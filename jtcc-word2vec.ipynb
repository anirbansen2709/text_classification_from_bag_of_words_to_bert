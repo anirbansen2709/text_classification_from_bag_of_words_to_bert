{
 "cells": [
  {
   "cell_type": "markdown",
   "metadata": {
    "papermill": {
     "duration": 0.018036,
     "end_time": "2020-12-30T21:50:47.426547",
     "exception": false,
     "start_time": "2020-12-30T21:50:47.408511",
     "status": "completed"
    },
    "tags": []
   },
   "source": [
    "## 0. Introduction\n",
    "In earlier notebook(https://www.kaggle.com/anirbansen3027/jtcc-bag-of-words) we used CountVectorizer (an sklearn implementation of Bag-of-Words) model to convert the texts to a numerical dataset, mapped against the output variables \"toxic\",\"severe_toxic\",\"obscene\",\"threat\",\"insult\",\"identity_hate\" and used Multi Output Classifier wrapper from sklearn to create Logistic Regression models for all the 6 output variables.\n",
    "\n",
    "In this one, we will be replacing the first part with a Word2Vec model to create an embedding instead of the BagOfWords vector and then input that to a Logistic Regression Model (Any ML/DL model can be built on top of the Word2Vec embedding).\n",
    "\n",
    "### Brief Intuition:\n",
    "#### What is Word Embedding?\n",
    "Word embeddings give us a way to use an efficient, dense representation in which similar words have a similar encoding. Importantly, you do not have to specify this encoding by hand. An embedding is a dense vector of floating point values (the length of the vector is a parameter you specify).\n",
    "<img src=\"https://www.researchgate.net/profile/Ali_Basirat/publication/327074728/figure/fig1/AS:678946643386368@1538884902625/A-two-dimensional-representation-of-word-embeddings-Words-with-similar-meanings-are.png\" width=\"500\">\n",
    "\n",
    "Above is a 2-dimensional word embedding where Sunday has more similar values to other weekdays than members of a family\n",
    "\n",
    "#### What is Word2Vec?\n",
    "Word2Vec is one of the oldest methods to create/learn this embeddings. Word2Vec is not a singular algorithm, rather, it is a family of model architectures and optimizations that can be used to learn word embeddings from large datasets. Embeddings learned through Word2Vec have proven to be successful on a variety of downstream natural language processing tasks like Text Classification, Question Answering. The papers proposed two methods for learning representations of words:\n",
    "\n",
    "**Continuous Bag-of-Words Model** which predicts the middle word based on surrounding context words. The context consists of a few words before and after the current (middle) word. This architecture is called a bag-of-words model as the order of words in the context is not important.\n",
    "\n",
    "**Continuous Skip-gram Model** which predict words within a certain range before and after the current word in the same sentence.\n",
    "\n",
    "Architecture Diagrams:\n",
    "<img src=\"https://3qeqpr26caki16dnhd19sv6by6v-wpengine.netdna-ssl.com/wp-content/uploads/2017/08/Word2Vec-Training-Models.png\" width=\"500\">\n",
    "\n",
    "Examples:\n",
    "![](https://1.bp.blogspot.com/-Vz5pLuZ49K8/XV0ErlMtdDI/AAAAAAAAB0A/FIM74z__LAUkCqpW12ViAnGX8Br56W2PQCEwYBhgL/s1600/image001.png)\n",
    "In CBOW, given the words (the quick brown box, over the lazy log), we would want to predict jump.\n",
    "In Skipgram just the opposite given the word jump, we would want to predict (the quick brown box, over the lazy log)\n",
    "\n",
    "#### But how does the models learn?\n",
    "I tried to make an image as that would be easier to grasp. It might look scary at first but I will try my best to explain.\n",
    "Lets's start with CBOW, we take the sentence \"Natural Language Processing\" where \"Natural\" and \"Processing\" are context words and \"Language\" is the target word. We have a shallow network as shown above with a single hidden layer. \n",
    "\n",
    "So the input is a one-hot encoded vector of V terms, V being the size of vocabulary (total number of unique words) with only single 1. So let's say we have only 5 words in vocabulary (Natural, Language, Processing, is, great). The vector for Natural will be [1, 0, 0, 0, 0]. Similarly for Processing it will be [0, 0, 1, 0, 0].\n",
    "Now, we have a randomly initialised Embedding vector(E) with size V * D where D is the dimension size of the vector which you can choose on. This is the weight matrix for the input layer.\n",
    "So, we multiply the input one-hot encoded vector with the weights/embedding vector. This gives the embedding vectors for the context words of size 1 * D.\n",
    "\n",
    "Now in the hidden layer, we average the emedding vectors for the context words which forms the input for this layer of size 1* D. This is multiplied by another Vector called Context Vector (E') with size D * V. This gives us a vector of 1 * V which is then passed through a sigmoid function to get the final output.\n",
    "\n",
    "The final output is compared with the one-hot encoded vector of Language (the middle word) [0, 1, 0, 0, 0] and loss function is calculated. This loss is back propogated and the model is trained using Gradient Descent\n",
    "\n",
    "The final o\n",
    "<img src=\"https://i.imgur.com/JsCPzSX.png\" title=\"source: imgur.com\" width=\"1000\"/>\n",
    "\n",
    "#### How will be get the embeddings?\n",
    "Gensim library enables us to develop word embeddings.Gensim gives you an option to choose the either CBOW or Skipgram while training your own embeddings.(Default is CBOW). Along with it, Gensim also has a directory of pretrained embeddings which are trained on several documents like wiki pages, google news, twitter tweets etc. In this example, we will be using a pretrained embedding based on Google News corpus (3 billion running words) word vector model (3 million 300-dimension English word vectors). \n",
    "\n",
    "Ok enough of definitions. Let's dive into the code\n",
    "\n",
    "### Table of Contents:\n",
    "[1. Importing Libraries](#1)\n",
    "\n",
    "[2. Reading Dataset](#2)\n",
    "\n",
    "[3. Basic preprocessing](#3)\n",
    "\n",
    "[4. Load pretrained embeddings](#4)\n",
    "\n",
    "[5. Convert text inputs to embeddings using pretrained models](#5)\n",
    "\n",
    "[6. Train and Validate a Multi-Output Classifier](#6)\n",
    "\n",
    "[7. Predicting and Submitting for Test Data](#7)\n",
    "\n",
    "[8. TODOs](#8)\n",
    "\n",
    "**N.B.: I haven't covered Logistic Regression and Feature Importance/ Model Intrepretation in this notebook as I have covered it in the last notebook : https://www.kaggle.com/anirbansen3027/jtcc-bag-of-words**"
   ]
  },
  {
   "cell_type": "markdown",
   "metadata": {
    "papermill": {
     "duration": 0.01623,
     "end_time": "2020-12-30T21:50:47.459517",
     "exception": false,
     "start_time": "2020-12-30T21:50:47.443287",
     "status": "completed"
    },
    "tags": []
   },
   "source": [
    "## 1. Importing Libraries <a class=\"anchor\" id=\"1\"></a>"
   ]
  },
  {
   "cell_type": "code",
   "execution_count": 1,
   "metadata": {
    "_cell_guid": "b1076dfc-b9ad-4769-8c92-a6c4dae69d19",
    "_uuid": "8f2839f25d086af736a60e9eeb907d3b93b6e0e5",
    "execution": {
     "iopub.execute_input": "2020-12-30T21:50:47.495883Z",
     "iopub.status.busy": "2020-12-30T21:50:47.494876Z",
     "iopub.status.idle": "2020-12-30T21:51:00.102435Z",
     "shell.execute_reply": "2020-12-30T21:51:00.101815Z"
    },
    "papermill": {
     "duration": 12.626726,
     "end_time": "2020-12-30T21:51:00.102555",
     "exception": false,
     "start_time": "2020-12-30T21:50:47.475829",
     "status": "completed"
    },
    "tags": []
   },
   "outputs": [
    {
     "name": "stdout",
     "output_type": "stream",
     "text": [
      "Collecting ipython-autotime\r\n",
      "  Downloading ipython_autotime-0.3.0-py2.py3-none-any.whl (6.8 kB)\r\n",
      "Requirement already satisfied: ipython in /opt/conda/lib/python3.7/site-packages (from ipython-autotime) (7.13.0)\r\n",
      "Requirement already satisfied: backcall in /opt/conda/lib/python3.7/site-packages (from ipython->ipython-autotime) (0.1.0)\r\n",
      "Requirement already satisfied: prompt-toolkit!=3.0.0,!=3.0.1,<3.1.0,>=2.0.0 in /opt/conda/lib/python3.7/site-packages (from ipython->ipython-autotime) (3.0.5)\r\n",
      "Requirement already satisfied: traitlets>=4.2 in /opt/conda/lib/python3.7/site-packages (from ipython->ipython-autotime) (4.3.3)\r\n",
      "Requirement already satisfied: pygments in /opt/conda/lib/python3.7/site-packages (from ipython->ipython-autotime) (2.6.1)\r\n",
      "Requirement already satisfied: pexpect in /opt/conda/lib/python3.7/site-packages (from ipython->ipython-autotime) (4.8.0)\r\n",
      "Requirement already satisfied: jedi>=0.10 in /opt/conda/lib/python3.7/site-packages (from ipython->ipython-autotime) (0.15.2)\r\n",
      "Requirement already satisfied: pickleshare in /opt/conda/lib/python3.7/site-packages (from ipython->ipython-autotime) (0.7.5)\r\n",
      "Requirement already satisfied: setuptools>=18.5 in /opt/conda/lib/python3.7/site-packages (from ipython->ipython-autotime) (46.1.3.post20200325)\r\n",
      "Requirement already satisfied: decorator in /opt/conda/lib/python3.7/site-packages (from ipython->ipython-autotime) (4.4.2)\r\n",
      "Requirement already satisfied: parso>=0.5.2 in /opt/conda/lib/python3.7/site-packages (from jedi>=0.10->ipython->ipython-autotime) (0.5.2)\r\n",
      "Requirement already satisfied: ptyprocess>=0.5 in /opt/conda/lib/python3.7/site-packages (from pexpect->ipython->ipython-autotime) (0.6.0)\r\n",
      "Requirement already satisfied: wcwidth in /opt/conda/lib/python3.7/site-packages (from prompt-toolkit!=3.0.0,!=3.0.1,<3.1.0,>=2.0.0->ipython->ipython-autotime) (0.1.9)\r\n",
      "Requirement already satisfied: six in /opt/conda/lib/python3.7/site-packages (from traitlets>=4.2->ipython->ipython-autotime) (1.14.0)\r\n",
      "Requirement already satisfied: decorator in /opt/conda/lib/python3.7/site-packages (from ipython->ipython-autotime) (4.4.2)\r\n",
      "Requirement already satisfied: ipython-genutils in /opt/conda/lib/python3.7/site-packages (from traitlets>=4.2->ipython->ipython-autotime) (0.2.0)\r\n",
      "Installing collected packages: ipython-autotime\r\n",
      "Successfully installed ipython-autotime-0.3.0\r\n",
      "\u001b[33mWARNING: You are using pip version 20.3.1; however, version 20.3.3 is available.\r\n",
      "You should consider upgrading via the '/opt/conda/bin/python3.7 -m pip install --upgrade pip' command.\u001b[0m\r\n",
      "time: 347 µs (started: 2020-12-30 21:51:00 +00:00)\n"
     ]
    }
   ],
   "source": [
    "!pip install ipython-autotime \n",
    "\n",
    "import numpy as np # linear algebra\n",
    "import pandas as pd # data processing, CSV file I/O (e.g. pd.read_csv)\n",
    "\n",
    "from gensim.models import Word2Vec, KeyedVectors\n",
    "\n",
    "from nltk.tokenize import word_tokenize\n",
    "from nltk.corpus import stopwords\n",
    "from string import punctuation\n",
    "from tqdm.notebook import tqdm\n",
    "\n",
    "from sklearn.multioutput import MultiOutputClassifier\n",
    "from sklearn.linear_model import LogisticRegression\n",
    "from sklearn.model_selection import train_test_split\n",
    "from sklearn.metrics import roc_auc_score\n",
    "\n",
    "from statistics import mean\n",
    "%load_ext autotime"
   ]
  },
  {
   "cell_type": "markdown",
   "metadata": {
    "papermill": {
     "duration": 0.019337,
     "end_time": "2020-12-30T21:51:00.142467",
     "exception": false,
     "start_time": "2020-12-30T21:51:00.123130",
     "status": "completed"
    },
    "tags": []
   },
   "source": [
    "## 2.Reading Dataset <a class=\"anchor\" id=\"2\"></a>\n",
    "All the datasets are provided as zipped files. First we will have to unzip them and then read them into dataframes"
   ]
  },
  {
   "cell_type": "code",
   "execution_count": 2,
   "metadata": {
    "execution": {
     "iopub.execute_input": "2020-12-30T21:51:00.184965Z",
     "iopub.status.busy": "2020-12-30T21:51:00.184266Z",
     "iopub.status.idle": "2020-12-30T21:51:04.665197Z",
     "shell.execute_reply": "2020-12-30T21:51:04.664583Z"
    },
    "papermill": {
     "duration": 4.503306,
     "end_time": "2020-12-30T21:51:04.665307",
     "exception": false,
     "start_time": "2020-12-30T21:51:00.162001",
     "status": "completed"
    },
    "tags": []
   },
   "outputs": [
    {
     "name": "stdout",
     "output_type": "stream",
     "text": [
      "\r\n",
      "4 archives were successfully processed.\r\n",
      "(159571, 8) (153164, 2) (153164, 7)\n"
     ]
    },
    {
     "data": {
      "text/html": [
       "<div>\n",
       "<style scoped>\n",
       "    .dataframe tbody tr th:only-of-type {\n",
       "        vertical-align: middle;\n",
       "    }\n",
       "\n",
       "    .dataframe tbody tr th {\n",
       "        vertical-align: top;\n",
       "    }\n",
       "\n",
       "    .dataframe thead th {\n",
       "        text-align: right;\n",
       "    }\n",
       "</style>\n",
       "<table border=\"1\" class=\"dataframe\">\n",
       "  <thead>\n",
       "    <tr style=\"text-align: right;\">\n",
       "      <th></th>\n",
       "      <th>id</th>\n",
       "      <th>comment_text</th>\n",
       "      <th>toxic</th>\n",
       "      <th>severe_toxic</th>\n",
       "      <th>obscene</th>\n",
       "      <th>threat</th>\n",
       "      <th>insult</th>\n",
       "      <th>identity_hate</th>\n",
       "    </tr>\n",
       "  </thead>\n",
       "  <tbody>\n",
       "    <tr>\n",
       "      <th>0</th>\n",
       "      <td>0000997932d777bf</td>\n",
       "      <td>Explanation\\nWhy the edits made under my usern...</td>\n",
       "      <td>0</td>\n",
       "      <td>0</td>\n",
       "      <td>0</td>\n",
       "      <td>0</td>\n",
       "      <td>0</td>\n",
       "      <td>0</td>\n",
       "    </tr>\n",
       "    <tr>\n",
       "      <th>1</th>\n",
       "      <td>000103f0d9cfb60f</td>\n",
       "      <td>D'aww! He matches this background colour I'm s...</td>\n",
       "      <td>0</td>\n",
       "      <td>0</td>\n",
       "      <td>0</td>\n",
       "      <td>0</td>\n",
       "      <td>0</td>\n",
       "      <td>0</td>\n",
       "    </tr>\n",
       "    <tr>\n",
       "      <th>2</th>\n",
       "      <td>000113f07ec002fd</td>\n",
       "      <td>Hey man, I'm really not trying to edit war. It...</td>\n",
       "      <td>0</td>\n",
       "      <td>0</td>\n",
       "      <td>0</td>\n",
       "      <td>0</td>\n",
       "      <td>0</td>\n",
       "      <td>0</td>\n",
       "    </tr>\n",
       "    <tr>\n",
       "      <th>3</th>\n",
       "      <td>0001b41b1c6bb37e</td>\n",
       "      <td>\"\\nMore\\nI can't make any real suggestions on ...</td>\n",
       "      <td>0</td>\n",
       "      <td>0</td>\n",
       "      <td>0</td>\n",
       "      <td>0</td>\n",
       "      <td>0</td>\n",
       "      <td>0</td>\n",
       "    </tr>\n",
       "    <tr>\n",
       "      <th>4</th>\n",
       "      <td>0001d958c54c6e35</td>\n",
       "      <td>You, sir, are my hero. Any chance you remember...</td>\n",
       "      <td>0</td>\n",
       "      <td>0</td>\n",
       "      <td>0</td>\n",
       "      <td>0</td>\n",
       "      <td>0</td>\n",
       "      <td>0</td>\n",
       "    </tr>\n",
       "  </tbody>\n",
       "</table>\n",
       "</div>"
      ],
      "text/plain": [
       "                 id                                       comment_text  toxic  \\\n",
       "0  0000997932d777bf  Explanation\\nWhy the edits made under my usern...      0   \n",
       "1  000103f0d9cfb60f  D'aww! He matches this background colour I'm s...      0   \n",
       "2  000113f07ec002fd  Hey man, I'm really not trying to edit war. It...      0   \n",
       "3  0001b41b1c6bb37e  \"\\nMore\\nI can't make any real suggestions on ...      0   \n",
       "4  0001d958c54c6e35  You, sir, are my hero. Any chance you remember...      0   \n",
       "\n",
       "   severe_toxic  obscene  threat  insult  identity_hate  \n",
       "0             0        0       0       0              0  \n",
       "1             0        0       0       0              0  \n",
       "2             0        0       0       0              0  \n",
       "3             0        0       0       0              0  \n",
       "4             0        0       0       0              0  "
      ]
     },
     "execution_count": 2,
     "metadata": {},
     "output_type": "execute_result"
    },
    {
     "name": "stdout",
     "output_type": "stream",
     "text": [
      "time: 4.47 s (started: 2020-12-30 21:51:00 +00:00)\n"
     ]
    }
   ],
   "source": [
    "#unzipping all the zip folders and saving it /kaggle/working and saving the verbose in /dev/null to keep it quiet\n",
    "# -o for overwrite -d for destination directory of unzipped file\n",
    "!unzip -o '/kaggle/input/jigsaw-toxic-comment-classification-challenge/*.zip' -d /kaggle/working > /dev/null\n",
    "#Reading input csv files\n",
    "df_train = pd.read_csv(\"train.csv\")\n",
    "df_test = pd.read_csv(\"test.csv\")\n",
    "sample_submission = pd.read_csv(\"sample_submission.csv\")\n",
    "print(df_train.shape, df_test.shape, sample_submission.shape)\n",
    "df_train.head()"
   ]
  },
  {
   "cell_type": "code",
   "execution_count": 3,
   "metadata": {
    "execution": {
     "iopub.execute_input": "2020-12-30T21:51:04.748493Z",
     "iopub.status.busy": "2020-12-30T21:51:04.747453Z",
     "iopub.status.idle": "2020-12-30T21:51:04.751024Z",
     "shell.execute_reply": "2020-12-30T21:51:04.751554Z"
    },
    "papermill": {
     "duration": 0.064995,
     "end_time": "2020-12-30T21:51:04.751690",
     "exception": false,
     "start_time": "2020-12-30T21:51:04.686695",
     "status": "completed"
    },
    "tags": []
   },
   "outputs": [
    {
     "name": "stdout",
     "output_type": "stream",
     "text": [
      "Example Training Text:\n",
      "\n",
      " Explanation\n",
      "Why the edits made under my username Hardcore Metallica Fan were reverted? They weren't vandalisms, just closure on some GAs after I voted at New York Dolls FAC. And please don't remove the template from the talk page since I'm retired now.89.205.38.27\n",
      "time: 33.6 ms (started: 2020-12-30 21:51:04 +00:00)\n"
     ]
    }
   ],
   "source": [
    "train_texts = list(df_train[\"comment_text\"].values)\n",
    "train_labels = df_train[['toxic', 'severe_toxic', 'obscene', 'threat','insult', 'identity_hate']].to_numpy()\n",
    "test_texts = list(df_test[\"comment_text\"].values)\n",
    "print(\"Example Training Text:\\n\\n\",train_texts[0])"
   ]
  },
  {
   "cell_type": "markdown",
   "metadata": {
    "papermill": {
     "duration": 0.021744,
     "end_time": "2020-12-30T21:51:04.797068",
     "exception": false,
     "start_time": "2020-12-30T21:51:04.775324",
     "status": "completed"
    },
    "tags": []
   },
   "source": [
    "We have around 160k training texts and about 153k test texts"
   ]
  },
  {
   "cell_type": "markdown",
   "metadata": {
    "papermill": {
     "duration": 0.021731,
     "end_time": "2020-12-30T21:51:04.840859",
     "exception": false,
     "start_time": "2020-12-30T21:51:04.819128",
     "status": "completed"
    },
    "tags": []
   },
   "source": [
    "## 3. Basic preprocessing <a class=\"anchor\" id=\"3\"></a>\n",
    "In this case, we remove stopwords and digits, lowercase all the texts and tokenize(break into individual tokens/words) the texts using word_tokenize from NLTK library"
   ]
  },
  {
   "cell_type": "code",
   "execution_count": 4,
   "metadata": {
    "execution": {
     "iopub.execute_input": "2020-12-30T21:51:04.894266Z",
     "iopub.status.busy": "2020-12-30T21:51:04.893464Z",
     "iopub.status.idle": "2020-12-30T21:57:13.948399Z",
     "shell.execute_reply": "2020-12-30T21:57:13.947814Z"
    },
    "papermill": {
     "duration": 369.08576,
     "end_time": "2020-12-30T21:57:13.948519",
     "exception": false,
     "start_time": "2020-12-30T21:51:04.862759",
     "status": "completed"
    },
    "tags": []
   },
   "outputs": [
    {
     "data": {
      "application/vnd.jupyter.widget-view+json": {
       "model_id": "243770482a134f2c855d3e4ecc8520f7",
       "version_major": 2,
       "version_minor": 0
      },
      "text/plain": [
       "HBox(children=(FloatProgress(value=0.0, max=159571.0), HTML(value='')))"
      ]
     },
     "metadata": {},
     "output_type": "display_data"
    },
    {
     "name": "stdout",
     "output_type": "stream",
     "text": [
      "\n"
     ]
    },
    {
     "data": {
      "application/vnd.jupyter.widget-view+json": {
       "model_id": "c44770215f314e6fbb76e8c707d04dfa",
       "version_major": 2,
       "version_minor": 0
      },
      "text/plain": [
       "HBox(children=(FloatProgress(value=0.0, max=153164.0), HTML(value='')))"
      ]
     },
     "metadata": {},
     "output_type": "display_data"
    },
    {
     "name": "stdout",
     "output_type": "stream",
     "text": [
      "\n",
      "Example Training Prepocessed Text\n",
      "\n",
      " ['explanation', 'why', 'edits', 'made', 'username', 'hardcore', 'metallica', 'fan', 'reverted', 'they', \"n't\", 'vandalisms', 'closure', 'gas', 'i', 'voted', 'new', 'york', 'dolls', 'fac', 'and', 'please', \"n't\", 'remove', 'template', 'talk', 'page', 'since', 'i', \"'m\", 'retired', 'now.89.205.38.27']\n",
      "time: 6min 9s (started: 2020-12-30 21:51:04 +00:00)\n"
     ]
    }
   ],
   "source": [
    "def preprocess_corpus(texts):\n",
    "    #importing stop words like in, the, of so that these can be removed from texts\n",
    "    #as these words dont help in determining the classes(Whether a sentence is toxic or not)\n",
    "    mystopwords = set(stopwords.words(\"english\"))\n",
    "    def remove_stops_digits(tokens):\n",
    "        #Nested function that lowercases, removes stopwords and digits from a list of tokens\n",
    "        return [token.lower() for token in tokens if token not in mystopwords and not token.isdigit()\n",
    "               and token not in punctuation]\n",
    "    #This return statement below uses the above function and tokenizes output further. \n",
    "    return [remove_stops_digits(word_tokenize(text)) for text in tqdm(texts)]\n",
    "\n",
    "#Preprocess both for training and test data\n",
    "train_texts_processed = preprocess_corpus(train_texts)\n",
    "test_texts_processed = preprocess_corpus(test_texts)\n",
    "print(\"Example Training Prepocessed Text\\n\\n\", train_texts_processed[0])"
   ]
  },
  {
   "cell_type": "markdown",
   "metadata": {
    "papermill": {
     "duration": 0.023221,
     "end_time": "2020-12-30T21:57:13.995484",
     "exception": false,
     "start_time": "2020-12-30T21:57:13.972263",
     "status": "completed"
    },
    "tags": []
   },
   "source": [
    "## 4. Load pretrained embeddings <a class=\"anchor\" id=\"4\"></a>\n",
    "We use Gensim Library to load pretrained embeddings for words trained on Google News dataset. The Google New model/ embedding vector is of 300 dimension"
   ]
  },
  {
   "cell_type": "code",
   "execution_count": 5,
   "metadata": {
    "execution": {
     "iopub.execute_input": "2020-12-30T21:57:14.048032Z",
     "iopub.status.busy": "2020-12-30T21:57:14.047372Z",
     "iopub.status.idle": "2020-12-30T21:57:58.477466Z",
     "shell.execute_reply": "2020-12-30T21:57:58.478389Z"
    },
    "papermill": {
     "duration": 44.459699,
     "end_time": "2020-12-30T21:57:58.478601",
     "exception": false,
     "start_time": "2020-12-30T21:57:14.018902",
     "status": "completed"
    },
    "tags": []
   },
   "outputs": [
    {
     "name": "stdout",
     "output_type": "stream",
     "text": [
      "3000000\n",
      "time: 44.4 s (started: 2020-12-30 21:57:14 +00:00)\n"
     ]
    }
   ],
   "source": [
    "#Path for the models/ embedding vector\n",
    "google_news_model = '../input/gensim-embeddings-dataset/GoogleNews-vectors-negative300.gensim'\n",
    "#Loading the models/ embedding vector using KeyedVectors.load function from gensim\n",
    "w2v_google_news = KeyedVectors.load(google_news_model)\n",
    "#Print lengths/number of words in the embedding\n",
    "print(len(w2v_google_news.vocab))"
   ]
  },
  {
   "cell_type": "markdown",
   "metadata": {
    "papermill": {
     "duration": 0.023723,
     "end_time": "2020-12-30T21:57:58.526220",
     "exception": false,
     "start_time": "2020-12-30T21:57:58.502497",
     "status": "completed"
    },
    "tags": []
   },
   "source": [
    "Goggle News model/ embedding vector has about 3 M words. Let's have a look at an example of an embedding which is essentialy a dictionary where the key is the word and value is the embedding vector for that word."
   ]
  },
  {
   "cell_type": "code",
   "execution_count": 6,
   "metadata": {
    "execution": {
     "iopub.execute_input": "2020-12-30T21:57:58.582494Z",
     "iopub.status.busy": "2020-12-30T21:57:58.581841Z",
     "iopub.status.idle": "2020-12-30T21:57:58.585551Z",
     "shell.execute_reply": "2020-12-30T21:57:58.586074Z"
    },
    "papermill": {
     "duration": 0.034608,
     "end_time": "2020-12-30T21:57:58.586224",
     "exception": false,
     "start_time": "2020-12-30T21:57:58.551616",
     "status": "completed"
    },
    "tags": []
   },
   "outputs": [
    {
     "name": "stdout",
     "output_type": "stream",
     "text": [
      "Shape of embedding vector (300,)\n",
      "First 20 numbers in the embedding of the word Natural\n",
      "\n",
      " [-0.22753906 -0.07617188 -0.06787109 -0.1015625   0.20214844  0.12890625\n",
      "  0.1796875  -0.11035156  0.01123047  0.01794434  0.12402344  0.11132812\n",
      " -0.3359375  -0.01104736 -0.16015625 -0.16113281 -0.13769531  0.4296875\n",
      " -0.03979492  0.05297852]\n",
      "time: 1.74 ms (started: 2020-12-30 21:57:58 +00:00)\n"
     ]
    }
   ],
   "source": [
    "#Print Shape of the embedding\n",
    "print(\"Shape of embedding vector\", w2v_google_news[\"Natural\"].shape)\n",
    "#Let's print first 20 dimensions rather than all 300\n",
    "print(\"First 20 numbers in the embedding of the word Natural\\n\\n\", w2v_google_news[\"Natural\"][:20])"
   ]
  },
  {
   "cell_type": "markdown",
   "metadata": {
    "papermill": {
     "duration": 0.024328,
     "end_time": "2020-12-30T21:57:58.634981",
     "exception": false,
     "start_time": "2020-12-30T21:57:58.610653",
     "status": "completed"
    },
    "tags": []
   },
   "source": [
    "This is how the embedding for the word \"Natural\" looks like."
   ]
  },
  {
   "cell_type": "markdown",
   "metadata": {
    "papermill": {
     "duration": 0.024212,
     "end_time": "2020-12-30T21:57:58.683821",
     "exception": false,
     "start_time": "2020-12-30T21:57:58.659609",
     "status": "completed"
    },
    "tags": []
   },
   "source": [
    "## 5. Convert text inputs to embeddings using pretrained models <a class=\"anchor\" id=\"5\"></a>"
   ]
  },
  {
   "cell_type": "markdown",
   "metadata": {
    "papermill": {
     "duration": 0.024262,
     "end_time": "2020-12-30T21:57:58.732491",
     "exception": false,
     "start_time": "2020-12-30T21:57:58.708229",
     "status": "completed"
    },
    "tags": []
   },
   "source": [
    "Here we take the input tokenized texts from earlier and get the embeddings for each word in texts from the pretrained embedding vector. This will give us the final input dataset in form of an embedding per sentence which can be used to train along with the output variables."
   ]
  },
  {
   "cell_type": "code",
   "execution_count": 7,
   "metadata": {
    "execution": {
     "iopub.execute_input": "2020-12-30T21:57:58.785738Z",
     "iopub.status.busy": "2020-12-30T21:57:58.785080Z",
     "iopub.status.idle": "2020-12-30T21:57:58.888303Z",
     "shell.execute_reply": "2020-12-30T21:57:58.888862Z"
    },
    "papermill": {
     "duration": 0.131181,
     "end_time": "2020-12-30T21:57:58.889009",
     "exception": false,
     "start_time": "2020-12-30T21:57:58.757828",
     "status": "completed"
    },
    "tags": []
   },
   "outputs": [
    {
     "name": "stdout",
     "output_type": "stream",
     "text": [
      "time: 2.44 ms (started: 2020-12-30 21:57:58 +00:00)\n"
     ]
    }
   ],
   "source": [
    "#Function that takes in the input text dataset in form of list of lists where each sentence is a list of words all the sentences are \n",
    "#inside a list\n",
    "def embedding_feats(list_of_lists, DIMENSION, w2v_model):\n",
    "    zeros_vector = np.zeros(DIMENSION)\n",
    "    feats = []\n",
    "    missing = set()\n",
    "    missing_sentences = set()\n",
    "    #Traverse over each sentence\n",
    "    for tokens in tqdm(list_of_lists):\n",
    "        # Initially assign zeroes as the embedding vector for the sentence\n",
    "        feat_for_this = zeros_vector\n",
    "        #Count the number of words in the embedding for this sentence\n",
    "        count_for_this = 0\n",
    "        #Traverse over each word of a sentence\n",
    "        for token in tokens:\n",
    "            #Check if the word is in the embedding vector\n",
    "            if token in w2v_model:\n",
    "                #Add the vector of the word to vector for the sentence\n",
    "                feat_for_this += w2v_model[token]\n",
    "                count_for_this +=1\n",
    "            #Else assign the missing word to missing set just to have a look at it\n",
    "            else:\n",
    "                missing.add(token)\n",
    "        #If no words are found in the embedding for the sentence\n",
    "        if count_for_this == 0:\n",
    "            #Assign all zeroes vector for that sentence\n",
    "            feats.append(feat_for_this)\n",
    "            #Assign the missing sentence to missing_sentences just to have a look at it\n",
    "            missing_sentences.add(' '.join(tokens))\n",
    "        #Else take average of the values of the embedding for each word to get the embedding of the sentence\n",
    "        else:\n",
    "            feats.append(feat_for_this/count_for_this)\n",
    "    return feats, missing, missing_sentences"
   ]
  },
  {
   "cell_type": "code",
   "execution_count": 8,
   "metadata": {
    "execution": {
     "iopub.execute_input": "2020-12-30T21:57:58.945429Z",
     "iopub.status.busy": "2020-12-30T21:57:58.944393Z",
     "iopub.status.idle": "2020-12-30T21:58:36.776720Z",
     "shell.execute_reply": "2020-12-30T21:58:36.777660Z"
    },
    "papermill": {
     "duration": 37.863391,
     "end_time": "2020-12-30T21:58:36.777885",
     "exception": false,
     "start_time": "2020-12-30T21:57:58.914494",
     "status": "completed"
    },
    "tags": []
   },
   "outputs": [
    {
     "data": {
      "application/vnd.jupyter.widget-view+json": {
       "model_id": "100237c5d32c44a2907a244df0016fe0",
       "version_major": 2,
       "version_minor": 0
      },
      "text/plain": [
       "HBox(children=(FloatProgress(value=0.0, max=159571.0), HTML(value='')))"
      ]
     },
     "metadata": {},
     "output_type": "display_data"
    },
    {
     "name": "stdout",
     "output_type": "stream",
     "text": [
      "\n",
      "time: 37.8 s (started: 2020-12-30 21:57:58 +00:00)\n"
     ]
    }
   ],
   "source": [
    "#Embeddings for the train dataset\n",
    "train_vectors, missing, missing_sentences = embedding_feats(train_texts_processed, 300, w2v_google_news)"
   ]
  },
  {
   "cell_type": "code",
   "execution_count": 9,
   "metadata": {
    "execution": {
     "iopub.execute_input": "2020-12-30T21:58:36.849293Z",
     "iopub.status.busy": "2020-12-30T21:58:36.848637Z",
     "iopub.status.idle": "2020-12-30T21:58:37.315390Z",
     "shell.execute_reply": "2020-12-30T21:58:37.315958Z"
    },
    "papermill": {
     "duration": 0.511331,
     "end_time": "2020-12-30T21:58:37.316178",
     "exception": false,
     "start_time": "2020-12-30T21:58:36.804847",
     "status": "completed"
    },
    "tags": []
   },
   "outputs": [
    {
     "name": "stdout",
     "output_type": "stream",
     "text": [
      "Shape of the final embeddings for the sentences (159571, 300)\n",
      "First 20 numbers in the embedding of the first train sentence\n",
      "\n",
      " [ 0.01282094  0.07879842  0.02510173  0.08058929 -0.05929769 -0.0129928\n",
      " -0.01726329 -0.09076614  0.07128092  0.0426658  -0.0269399  -0.1129715\n",
      " -0.05300395  0.01384761 -0.08168869  0.10279338  0.01549072  0.05962321\n",
      "  0.03122152 -0.08815613]\n",
      "time: 476 ms (started: 2020-12-30 21:58:36 +00:00)\n"
     ]
    }
   ],
   "source": [
    "print(\"Shape of the final embeddings for the sentences\", np.array(train_vectors).shape)\n",
    "print(\"First 20 numbers in the embedding of the first train sentence\\n\\n\", np.array(train_vectors)[0][:20])"
   ]
  },
  {
   "cell_type": "markdown",
   "metadata": {
    "papermill": {
     "duration": 0.026522,
     "end_time": "2020-12-30T21:58:37.369809",
     "exception": false,
     "start_time": "2020-12-30T21:58:37.343287",
     "status": "completed"
    },
    "tags": []
   },
   "source": [
    "To summarize, each sentence will have one 300 dimensional embedding vector which will be an average of the word embeddings present in that sentence. The word embeddings are taken from the pretrained word embeddings that was trained on google news to find the embedding."
   ]
  },
  {
   "cell_type": "markdown",
   "metadata": {
    "papermill": {
     "duration": 0.02644,
     "end_time": "2020-12-30T21:58:37.423030",
     "exception": false,
     "start_time": "2020-12-30T21:58:37.396590",
     "status": "completed"
    },
    "tags": []
   },
   "source": [
    "## 6. Train and Validate a Multi-Output Classifier <a class=\"anchor\" id=\"6\"></a>\n",
    "Since we need to classify each sentence as toxic or not, severe_toxic or not, obscene or not, threat or not, insult or not and identity_hate or not, we need to classify the sentence against 6 output variables (This is called Multi-Label Classification which is different from mult-class classification where a target variable has more than 2 options e.g. a sentence can be positive, negative and neutral)\n",
    "\n",
    "For the same, we will be using MultiOutputClassifier from sklearn which as mentioned earlier is a wrapper.This strategy consists of fitting one classifier per target.\n",
    "So, this segment will deal with 5 things\n",
    "\n",
    "1. Getting the embedding vector for the training dataset\n",
    "2. Split the embedding vector and output variables into train and validation set\n",
    "3. Fit a Logistic Regression model on training embedding vector and output variables\n",
    "*(I have covered Logistic Regression in the previous notebook https://www.kaggle.com/anirbansen3027/jtcc-bag-of-words)*\n",
    "4. Make predictions on the validation embedding vectors\n",
    "5. Measure performance in the terms of ROC-AUC"
   ]
  },
  {
   "cell_type": "markdown",
   "metadata": {
    "papermill": {
     "duration": 0.026571,
     "end_time": "2020-12-30T21:58:37.476631",
     "exception": false,
     "start_time": "2020-12-30T21:58:37.450060",
     "status": "completed"
    },
    "tags": []
   },
   "source": [
    "Since, the competition uses mean ROC-AUC as the evaluation metric, we will be using the same in the notebook. We will compare the mean ROC-AUC across all the 3 models we have trained. We will be using predict_proba function of models instead of predict which gives us the probability scores instead of predicted value based on a threshold of 0.5, as it is used by the roc_auc_measure."
   ]
  },
  {
   "cell_type": "code",
   "execution_count": 10,
   "metadata": {
    "execution": {
     "iopub.execute_input": "2020-12-30T21:58:37.537005Z",
     "iopub.status.busy": "2020-12-30T21:58:37.536318Z",
     "iopub.status.idle": "2020-12-30T21:58:37.540007Z",
     "shell.execute_reply": "2020-12-30T21:58:37.539457Z"
    },
    "papermill": {
     "duration": 0.036661,
     "end_time": "2020-12-30T21:58:37.540114",
     "exception": false,
     "start_time": "2020-12-30T21:58:37.503453",
     "status": "completed"
    },
    "tags": []
   },
   "outputs": [
    {
     "name": "stdout",
     "output_type": "stream",
     "text": [
      "time: 1.17 ms (started: 2020-12-30 21:58:37 +00:00)\n"
     ]
    }
   ],
   "source": [
    "#Function for calculating roc auc with given actual binary values across target variables\n",
    "#and the probability score made by the model\n",
    "def accuracy(y_test, y_pred):\n",
    "    aucs = []\n",
    "    #Calculate the ROC-AUC for each of the target column\n",
    "    for col in range(y_test.shape[1]):\n",
    "        aucs.append(roc_auc_score(y_test[:,col],y_pred[:,col]))\n",
    "    return aucs"
   ]
  },
  {
   "cell_type": "code",
   "execution_count": 11,
   "metadata": {
    "execution": {
     "iopub.execute_input": "2020-12-30T21:58:37.604462Z",
     "iopub.status.busy": "2020-12-30T21:58:37.603670Z",
     "iopub.status.idle": "2020-12-30T21:58:37.606724Z",
     "shell.execute_reply": "2020-12-30T21:58:37.607504Z"
    },
    "papermill": {
     "duration": 0.039711,
     "end_time": "2020-12-30T21:58:37.607698",
     "exception": false,
     "start_time": "2020-12-30T21:58:37.567987",
     "status": "completed"
    },
    "tags": []
   },
   "outputs": [
    {
     "name": "stdout",
     "output_type": "stream",
     "text": [
      "time: 1.88 ms (started: 2020-12-30 21:58:37 +00:00)\n"
     ]
    }
   ],
   "source": [
    "def train_model(DIMENSION, model):\n",
    "    #Get the embedding vector for the training data\n",
    "    train_vectors, missing, missing_sentences = embedding_feats(train_texts_processed, DIMENSION, model)\n",
    "    \n",
    "    #Split the embedding vector for the training data along with the output variables\n",
    "    #into train and validation sets\n",
    "    train_data, val_data, train_cats, val_cats = train_test_split(train_vectors, train_labels)\n",
    "    \n",
    "    #Logistic Regression Model (As we have unbalanced dataset, we use class_weight which will use inverse\n",
    "    #of counts of that class. It penalizes mistakes in samples of class[i] with class_weight[i] instead of 1)\n",
    "    lr = MultiOutputClassifier(LogisticRegression(class_weight='balanced', max_iter=3000)).fit(train_data, train_cats)\n",
    "    \n",
    "    #Actuals for the validation data\n",
    "    y_vals = val_cats\n",
    "    #Prediction probability for the validation dataset by the model for class 1\n",
    "    y_preds = np.transpose(np.array(lr.predict_proba(val_data))[:,:,1])\n",
    "    #Calculate the Mean ROC_AUC \n",
    "    mean_auc = mean(accuracy(y_vals,y_preds))\n",
    "    return mean_auc, lr"
   ]
  },
  {
   "cell_type": "code",
   "execution_count": 12,
   "metadata": {
    "execution": {
     "iopub.execute_input": "2020-12-30T21:58:37.669824Z",
     "iopub.status.busy": "2020-12-30T21:58:37.669166Z",
     "iopub.status.idle": "2020-12-30T21:59:54.467451Z",
     "shell.execute_reply": "2020-12-30T21:59:54.467997Z"
    },
    "papermill": {
     "duration": 76.830333,
     "end_time": "2020-12-30T21:59:54.468170",
     "exception": false,
     "start_time": "2020-12-30T21:58:37.637837",
     "status": "completed"
    },
    "tags": []
   },
   "outputs": [
    {
     "data": {
      "application/vnd.jupyter.widget-view+json": {
       "model_id": "1ffb6fd553d246c5b8acbdfd63d52ccd",
       "version_major": 2,
       "version_minor": 0
      },
      "text/plain": [
       "HBox(children=(FloatProgress(value=0.0, max=159571.0), HTML(value='')))"
      ]
     },
     "metadata": {},
     "output_type": "display_data"
    },
    {
     "name": "stdout",
     "output_type": "stream",
     "text": [
      "\n",
      "0.5712985193905036\n",
      "time: 1min 16s (started: 2020-12-30 21:58:37 +00:00)\n"
     ]
    }
   ],
   "source": [
    "mean_auc, lr = train_model(300, w2v_google_news)\n",
    "print(mean_auc)"
   ]
  },
  {
   "cell_type": "markdown",
   "metadata": {
    "papermill": {
     "duration": 0.029207,
     "end_time": "2020-12-30T21:59:54.526720",
     "exception": false,
     "start_time": "2020-12-30T21:59:54.497513",
     "status": "completed"
    },
    "tags": []
   },
   "source": [
    "This model turns out to be pretty moderate. This might be because of the pretrained embeddings not correctly capturing the details. We could instead train an embedding of our own using Word2Vec."
   ]
  },
  {
   "cell_type": "markdown",
   "metadata": {
    "papermill": {
     "duration": 0.029904,
     "end_time": "2020-12-30T21:59:54.585820",
     "exception": false,
     "start_time": "2020-12-30T21:59:54.555916",
     "status": "completed"
    },
    "tags": []
   },
   "source": [
    "## 7. Predicting and Submitting for Test Data <a class=\"anchor\" id=\"7\"></a>"
   ]
  },
  {
   "cell_type": "code",
   "execution_count": 13,
   "metadata": {
    "execution": {
     "iopub.execute_input": "2020-12-30T21:59:54.651956Z",
     "iopub.status.busy": "2020-12-30T21:59:54.650758Z",
     "iopub.status.idle": "2020-12-30T22:00:33.443389Z",
     "shell.execute_reply": "2020-12-30T22:00:33.442542Z"
    },
    "papermill": {
     "duration": 38.826841,
     "end_time": "2020-12-30T22:00:33.443510",
     "exception": false,
     "start_time": "2020-12-30T21:59:54.616669",
     "status": "completed"
    },
    "tags": []
   },
   "outputs": [
    {
     "data": {
      "application/vnd.jupyter.widget-view+json": {
       "model_id": "ae1903c5c157445c96131b17d81e99be",
       "version_major": 2,
       "version_minor": 0
      },
      "text/plain": [
       "HBox(children=(FloatProgress(value=0.0, max=153164.0), HTML(value='')))"
      ]
     },
     "metadata": {},
     "output_type": "display_data"
    },
    {
     "name": "stdout",
     "output_type": "stream",
     "text": [
      "\n",
      "time: 38.8 s (started: 2020-12-30 21:59:54 +00:00)\n"
     ]
    }
   ],
   "source": [
    "# Merging the test dataset with sample_submission to have all the columns:\n",
    "#id,text_data and the target variables in one dataframe\n",
    "df_test = pd.merge(df_test, sample_submission, on = \"id\")\n",
    "#Getting the embedding matrix for test texts \n",
    "test_vectors, _, _ = embedding_feats(test_texts_processed, 300, w2v_google_news)\n",
    "#Use the Logistic Regression model to output probabilities and take the probability for class 1\n",
    "y_preds = np.transpose(np.array(lr.predict_proba(test_vectors))[:,:,1])\n",
    "#Assign the predictions by the model in the final test dataset\n",
    "df_test[[\"toxic\",\"severe_toxic\",\"obscene\",\"threat\",\"insult\",\"identity_hate\"]] = y_preds\n",
    "#Drop Comment Text as the sample submission doesnt have it and wouldnt be expected\n",
    "df_test.drop([\"comment_text\"], axis = 1, inplace = True)\n",
    "#Save the dataset as a csv to submit it\n",
    "df_test.to_csv(\"sample_submission.csv\", index = False)"
   ]
  },
  {
   "cell_type": "markdown",
   "metadata": {
    "papermill": {
     "duration": 0.030448,
     "end_time": "2020-12-30T22:00:33.504723",
     "exception": false,
     "start_time": "2020-12-30T22:00:33.474275",
     "status": "completed"
    },
    "tags": []
   },
   "source": [
    "## 8. TODOs <a class=\"anchor\" id=\"8\"></a>\n",
    "1. Train a Word2Vec model from scratch \n",
    "2. Try ensemble models instead of Vanilla ML models Bagging and Boosting models give better results than classic ML techniques in most cases\n",
    "3. Better Text Preprocessing Typo correction etc can be done to further improve the model\n",
    "\n",
    "***Do upvote if you find it helpful 😁***"
   ]
  }
 ],
 "metadata": {
  "kernelspec": {
   "display_name": "Python 3",
   "language": "python",
   "name": "python3"
  },
  "language_info": {
   "codemirror_mode": {
    "name": "ipython",
    "version": 3
   },
   "file_extension": ".py",
   "mimetype": "text/x-python",
   "name": "python",
   "nbconvert_exporter": "python",
   "pygments_lexer": "ipython3",
   "version": "3.7.6"
  },
  "papermill": {
   "duration": 592.146598,
   "end_time": "2020-12-30T22:00:34.610027",
   "environment_variables": {},
   "exception": null,
   "input_path": "__notebook__.ipynb",
   "output_path": "__notebook__.ipynb",
   "parameters": {},
   "start_time": "2020-12-30T21:50:42.463429",
   "version": "2.1.0"
  },
  "widgets": {
   "application/vnd.jupyter.widget-state+json": {
    "state": {
     "05d5c1c247314a95b511e93af51bb07f": {
      "model_module": "@jupyter-widgets/base",
      "model_module_version": "1.2.0",
      "model_name": "LayoutModel",
      "state": {
       "_model_module": "@jupyter-widgets/base",
       "_model_module_version": "1.2.0",
       "_model_name": "LayoutModel",
       "_view_count": null,
       "_view_module": "@jupyter-widgets/base",
       "_view_module_version": "1.2.0",
       "_view_name": "LayoutView",
       "align_content": null,
       "align_items": null,
       "align_self": null,
       "border": null,
       "bottom": null,
       "display": null,
       "flex": null,
       "flex_flow": null,
       "grid_area": null,
       "grid_auto_columns": null,
       "grid_auto_flow": null,
       "grid_auto_rows": null,
       "grid_column": null,
       "grid_gap": null,
       "grid_row": null,
       "grid_template_areas": null,
       "grid_template_columns": null,
       "grid_template_rows": null,
       "height": null,
       "justify_content": null,
       "justify_items": null,
       "left": null,
       "margin": null,
       "max_height": null,
       "max_width": null,
       "min_height": null,
       "min_width": null,
       "object_fit": null,
       "object_position": null,
       "order": null,
       "overflow": null,
       "overflow_x": null,
       "overflow_y": null,
       "padding": null,
       "right": null,
       "top": null,
       "visibility": null,
       "width": null
      }
     },
     "0ca380f141e4439d93ffb5c41d69358d": {
      "model_module": "@jupyter-widgets/controls",
      "model_module_version": "1.5.0",
      "model_name": "ProgressStyleModel",
      "state": {
       "_model_module": "@jupyter-widgets/controls",
       "_model_module_version": "1.5.0",
       "_model_name": "ProgressStyleModel",
       "_view_count": null,
       "_view_module": "@jupyter-widgets/base",
       "_view_module_version": "1.2.0",
       "_view_name": "StyleView",
       "bar_color": null,
       "description_width": "initial"
      }
     },
     "100237c5d32c44a2907a244df0016fe0": {
      "model_module": "@jupyter-widgets/controls",
      "model_module_version": "1.5.0",
      "model_name": "HBoxModel",
      "state": {
       "_dom_classes": [],
       "_model_module": "@jupyter-widgets/controls",
       "_model_module_version": "1.5.0",
       "_model_name": "HBoxModel",
       "_view_count": null,
       "_view_module": "@jupyter-widgets/controls",
       "_view_module_version": "1.5.0",
       "_view_name": "HBoxView",
       "box_style": "",
       "children": [
        "IPY_MODEL_84f87edac64546a9a18a678b83d9197b",
        "IPY_MODEL_da8e4945d8a94d78ba40fe369c3abc94"
       ],
       "layout": "IPY_MODEL_84d2d31b617146a1af9ec743830416e2"
      }
     },
     "12bdd42dd6bd42bea9cea14c0bc3cd26": {
      "model_module": "@jupyter-widgets/controls",
      "model_module_version": "1.5.0",
      "model_name": "FloatProgressModel",
      "state": {
       "_dom_classes": [],
       "_model_module": "@jupyter-widgets/controls",
       "_model_module_version": "1.5.0",
       "_model_name": "FloatProgressModel",
       "_view_count": null,
       "_view_module": "@jupyter-widgets/controls",
       "_view_module_version": "1.5.0",
       "_view_name": "ProgressView",
       "bar_style": "success",
       "description": "100%",
       "description_tooltip": null,
       "layout": "IPY_MODEL_05d5c1c247314a95b511e93af51bb07f",
       "max": 159571.0,
       "min": 0.0,
       "orientation": "horizontal",
       "style": "IPY_MODEL_5eeabb2c8ced4738be711255f4ae6358",
       "value": 159571.0
      }
     },
     "13d0ed99196049abbc3400f23abd837f": {
      "model_module": "@jupyter-widgets/base",
      "model_module_version": "1.2.0",
      "model_name": "LayoutModel",
      "state": {
       "_model_module": "@jupyter-widgets/base",
       "_model_module_version": "1.2.0",
       "_model_name": "LayoutModel",
       "_view_count": null,
       "_view_module": "@jupyter-widgets/base",
       "_view_module_version": "1.2.0",
       "_view_name": "LayoutView",
       "align_content": null,
       "align_items": null,
       "align_self": null,
       "border": null,
       "bottom": null,
       "display": null,
       "flex": null,
       "flex_flow": null,
       "grid_area": null,
       "grid_auto_columns": null,
       "grid_auto_flow": null,
       "grid_auto_rows": null,
       "grid_column": null,
       "grid_gap": null,
       "grid_row": null,
       "grid_template_areas": null,
       "grid_template_columns": null,
       "grid_template_rows": null,
       "height": null,
       "justify_content": null,
       "justify_items": null,
       "left": null,
       "margin": null,
       "max_height": null,
       "max_width": null,
       "min_height": null,
       "min_width": null,
       "object_fit": null,
       "object_position": null,
       "order": null,
       "overflow": null,
       "overflow_x": null,
       "overflow_y": null,
       "padding": null,
       "right": null,
       "top": null,
       "visibility": null,
       "width": null
      }
     },
     "1ffb6fd553d246c5b8acbdfd63d52ccd": {
      "model_module": "@jupyter-widgets/controls",
      "model_module_version": "1.5.0",
      "model_name": "HBoxModel",
      "state": {
       "_dom_classes": [],
       "_model_module": "@jupyter-widgets/controls",
       "_model_module_version": "1.5.0",
       "_model_name": "HBoxModel",
       "_view_count": null,
       "_view_module": "@jupyter-widgets/controls",
       "_view_module_version": "1.5.0",
       "_view_name": "HBoxView",
       "box_style": "",
       "children": [
        "IPY_MODEL_5e7379e65a374e2b9019f63cae86dd01",
        "IPY_MODEL_547e301c537a402f8b7c268eda889caf"
       ],
       "layout": "IPY_MODEL_c0579aed3273498e9bc585af691d3f2a"
      }
     },
     "22cba89b377048f78741e08db76a2a13": {
      "model_module": "@jupyter-widgets/controls",
      "model_module_version": "1.5.0",
      "model_name": "HTMLModel",
      "state": {
       "_dom_classes": [],
       "_model_module": "@jupyter-widgets/controls",
       "_model_module_version": "1.5.0",
       "_model_name": "HTMLModel",
       "_view_count": null,
       "_view_module": "@jupyter-widgets/controls",
       "_view_module_version": "1.5.0",
       "_view_name": "HTMLView",
       "description": "",
       "description_tooltip": null,
       "layout": "IPY_MODEL_bd424decc9364f0dbe46c75c85a7644a",
       "placeholder": "​",
       "style": "IPY_MODEL_70b52b1d25854f3caedeaf2ab62c4ae2",
       "value": " 153164/153164 [02:54&lt;00:00, 879.78it/s]"
      }
     },
     "243770482a134f2c855d3e4ecc8520f7": {
      "model_module": "@jupyter-widgets/controls",
      "model_module_version": "1.5.0",
      "model_name": "HBoxModel",
      "state": {
       "_dom_classes": [],
       "_model_module": "@jupyter-widgets/controls",
       "_model_module_version": "1.5.0",
       "_model_name": "HBoxModel",
       "_view_count": null,
       "_view_module": "@jupyter-widgets/controls",
       "_view_module_version": "1.5.0",
       "_view_name": "HBoxView",
       "box_style": "",
       "children": [
        "IPY_MODEL_12bdd42dd6bd42bea9cea14c0bc3cd26",
        "IPY_MODEL_4a2ea9aeee9b4736b6887ad8191ac7f2"
       ],
       "layout": "IPY_MODEL_13d0ed99196049abbc3400f23abd837f"
      }
     },
     "280828c5fc6944aaa00acfe6b6cd3b0d": {
      "model_module": "@jupyter-widgets/base",
      "model_module_version": "1.2.0",
      "model_name": "LayoutModel",
      "state": {
       "_model_module": "@jupyter-widgets/base",
       "_model_module_version": "1.2.0",
       "_model_name": "LayoutModel",
       "_view_count": null,
       "_view_module": "@jupyter-widgets/base",
       "_view_module_version": "1.2.0",
       "_view_name": "LayoutView",
       "align_content": null,
       "align_items": null,
       "align_self": null,
       "border": null,
       "bottom": null,
       "display": null,
       "flex": null,
       "flex_flow": null,
       "grid_area": null,
       "grid_auto_columns": null,
       "grid_auto_flow": null,
       "grid_auto_rows": null,
       "grid_column": null,
       "grid_gap": null,
       "grid_row": null,
       "grid_template_areas": null,
       "grid_template_columns": null,
       "grid_template_rows": null,
       "height": null,
       "justify_content": null,
       "justify_items": null,
       "left": null,
       "margin": null,
       "max_height": null,
       "max_width": null,
       "min_height": null,
       "min_width": null,
       "object_fit": null,
       "object_position": null,
       "order": null,
       "overflow": null,
       "overflow_x": null,
       "overflow_y": null,
       "padding": null,
       "right": null,
       "top": null,
       "visibility": null,
       "width": null
      }
     },
     "2e0b9356505942abb23f1d6788fd41df": {
      "model_module": "@jupyter-widgets/controls",
      "model_module_version": "1.5.0",
      "model_name": "FloatProgressModel",
      "state": {
       "_dom_classes": [],
       "_model_module": "@jupyter-widgets/controls",
       "_model_module_version": "1.5.0",
       "_model_name": "FloatProgressModel",
       "_view_count": null,
       "_view_module": "@jupyter-widgets/controls",
       "_view_module_version": "1.5.0",
       "_view_name": "ProgressView",
       "bar_style": "success",
       "description": "100%",
       "description_tooltip": null,
       "layout": "IPY_MODEL_280828c5fc6944aaa00acfe6b6cd3b0d",
       "max": 153164.0,
       "min": 0.0,
       "orientation": "horizontal",
       "style": "IPY_MODEL_0ca380f141e4439d93ffb5c41d69358d",
       "value": 153164.0
      }
     },
     "2f54cb4cb51c4063b6d7dd4e11ee8f49": {
      "model_module": "@jupyter-widgets/base",
      "model_module_version": "1.2.0",
      "model_name": "LayoutModel",
      "state": {
       "_model_module": "@jupyter-widgets/base",
       "_model_module_version": "1.2.0",
       "_model_name": "LayoutModel",
       "_view_count": null,
       "_view_module": "@jupyter-widgets/base",
       "_view_module_version": "1.2.0",
       "_view_name": "LayoutView",
       "align_content": null,
       "align_items": null,
       "align_self": null,
       "border": null,
       "bottom": null,
       "display": null,
       "flex": null,
       "flex_flow": null,
       "grid_area": null,
       "grid_auto_columns": null,
       "grid_auto_flow": null,
       "grid_auto_rows": null,
       "grid_column": null,
       "grid_gap": null,
       "grid_row": null,
       "grid_template_areas": null,
       "grid_template_columns": null,
       "grid_template_rows": null,
       "height": null,
       "justify_content": null,
       "justify_items": null,
       "left": null,
       "margin": null,
       "max_height": null,
       "max_width": null,
       "min_height": null,
       "min_width": null,
       "object_fit": null,
       "object_position": null,
       "order": null,
       "overflow": null,
       "overflow_x": null,
       "overflow_y": null,
       "padding": null,
       "right": null,
       "top": null,
       "visibility": null,
       "width": null
      }
     },
     "331f5554fd33464db0cc3ebf5fdce495": {
      "model_module": "@jupyter-widgets/base",
      "model_module_version": "1.2.0",
      "model_name": "LayoutModel",
      "state": {
       "_model_module": "@jupyter-widgets/base",
       "_model_module_version": "1.2.0",
       "_model_name": "LayoutModel",
       "_view_count": null,
       "_view_module": "@jupyter-widgets/base",
       "_view_module_version": "1.2.0",
       "_view_name": "LayoutView",
       "align_content": null,
       "align_items": null,
       "align_self": null,
       "border": null,
       "bottom": null,
       "display": null,
       "flex": null,
       "flex_flow": null,
       "grid_area": null,
       "grid_auto_columns": null,
       "grid_auto_flow": null,
       "grid_auto_rows": null,
       "grid_column": null,
       "grid_gap": null,
       "grid_row": null,
       "grid_template_areas": null,
       "grid_template_columns": null,
       "grid_template_rows": null,
       "height": null,
       "justify_content": null,
       "justify_items": null,
       "left": null,
       "margin": null,
       "max_height": null,
       "max_width": null,
       "min_height": null,
       "min_width": null,
       "object_fit": null,
       "object_position": null,
       "order": null,
       "overflow": null,
       "overflow_x": null,
       "overflow_y": null,
       "padding": null,
       "right": null,
       "top": null,
       "visibility": null,
       "width": null
      }
     },
     "3f7f0826d5a947c6916b58a41a99b041": {
      "model_module": "@jupyter-widgets/base",
      "model_module_version": "1.2.0",
      "model_name": "LayoutModel",
      "state": {
       "_model_module": "@jupyter-widgets/base",
       "_model_module_version": "1.2.0",
       "_model_name": "LayoutModel",
       "_view_count": null,
       "_view_module": "@jupyter-widgets/base",
       "_view_module_version": "1.2.0",
       "_view_name": "LayoutView",
       "align_content": null,
       "align_items": null,
       "align_self": null,
       "border": null,
       "bottom": null,
       "display": null,
       "flex": null,
       "flex_flow": null,
       "grid_area": null,
       "grid_auto_columns": null,
       "grid_auto_flow": null,
       "grid_auto_rows": null,
       "grid_column": null,
       "grid_gap": null,
       "grid_row": null,
       "grid_template_areas": null,
       "grid_template_columns": null,
       "grid_template_rows": null,
       "height": null,
       "justify_content": null,
       "justify_items": null,
       "left": null,
       "margin": null,
       "max_height": null,
       "max_width": null,
       "min_height": null,
       "min_width": null,
       "object_fit": null,
       "object_position": null,
       "order": null,
       "overflow": null,
       "overflow_x": null,
       "overflow_y": null,
       "padding": null,
       "right": null,
       "top": null,
       "visibility": null,
       "width": null
      }
     },
     "4090678a2b5248d982297df134862dd8": {
      "model_module": "@jupyter-widgets/base",
      "model_module_version": "1.2.0",
      "model_name": "LayoutModel",
      "state": {
       "_model_module": "@jupyter-widgets/base",
       "_model_module_version": "1.2.0",
       "_model_name": "LayoutModel",
       "_view_count": null,
       "_view_module": "@jupyter-widgets/base",
       "_view_module_version": "1.2.0",
       "_view_name": "LayoutView",
       "align_content": null,
       "align_items": null,
       "align_self": null,
       "border": null,
       "bottom": null,
       "display": null,
       "flex": null,
       "flex_flow": null,
       "grid_area": null,
       "grid_auto_columns": null,
       "grid_auto_flow": null,
       "grid_auto_rows": null,
       "grid_column": null,
       "grid_gap": null,
       "grid_row": null,
       "grid_template_areas": null,
       "grid_template_columns": null,
       "grid_template_rows": null,
       "height": null,
       "justify_content": null,
       "justify_items": null,
       "left": null,
       "margin": null,
       "max_height": null,
       "max_width": null,
       "min_height": null,
       "min_width": null,
       "object_fit": null,
       "object_position": null,
       "order": null,
       "overflow": null,
       "overflow_x": null,
       "overflow_y": null,
       "padding": null,
       "right": null,
       "top": null,
       "visibility": null,
       "width": null
      }
     },
     "4a2ea9aeee9b4736b6887ad8191ac7f2": {
      "model_module": "@jupyter-widgets/controls",
      "model_module_version": "1.5.0",
      "model_name": "HTMLModel",
      "state": {
       "_dom_classes": [],
       "_model_module": "@jupyter-widgets/controls",
       "_model_module_version": "1.5.0",
       "_model_name": "HTMLModel",
       "_view_count": null,
       "_view_module": "@jupyter-widgets/controls",
       "_view_module_version": "1.5.0",
       "_view_name": "HTMLView",
       "description": "",
       "description_tooltip": null,
       "layout": "IPY_MODEL_930c3cc2fe2d4f57b09bb9ee7a843708",
       "placeholder": "​",
       "style": "IPY_MODEL_4d231d6a9f324993858b788acc9db8b8",
       "value": " 159571/159571 [04:36&lt;00:00, 577.45it/s]"
      }
     },
     "4d231d6a9f324993858b788acc9db8b8": {
      "model_module": "@jupyter-widgets/controls",
      "model_module_version": "1.5.0",
      "model_name": "DescriptionStyleModel",
      "state": {
       "_model_module": "@jupyter-widgets/controls",
       "_model_module_version": "1.5.0",
       "_model_name": "DescriptionStyleModel",
       "_view_count": null,
       "_view_module": "@jupyter-widgets/base",
       "_view_module_version": "1.2.0",
       "_view_name": "StyleView",
       "description_width": ""
      }
     },
     "547e301c537a402f8b7c268eda889caf": {
      "model_module": "@jupyter-widgets/controls",
      "model_module_version": "1.5.0",
      "model_name": "HTMLModel",
      "state": {
       "_dom_classes": [],
       "_model_module": "@jupyter-widgets/controls",
       "_model_module_version": "1.5.0",
       "_model_name": "HTMLModel",
       "_view_count": null,
       "_view_module": "@jupyter-widgets/controls",
       "_view_module_version": "1.5.0",
       "_view_name": "HTMLView",
       "description": "",
       "description_tooltip": null,
       "layout": "IPY_MODEL_df14f959a61442208de5db54f2203ede",
       "placeholder": "​",
       "style": "IPY_MODEL_dd8d1873ad624c1795c70b3b33890f24",
       "value": " 159571/159571 [00:37&lt;00:00, 4217.31it/s]"
      }
     },
     "5e7379e65a374e2b9019f63cae86dd01": {
      "model_module": "@jupyter-widgets/controls",
      "model_module_version": "1.5.0",
      "model_name": "FloatProgressModel",
      "state": {
       "_dom_classes": [],
       "_model_module": "@jupyter-widgets/controls",
       "_model_module_version": "1.5.0",
       "_model_name": "FloatProgressModel",
       "_view_count": null,
       "_view_module": "@jupyter-widgets/controls",
       "_view_module_version": "1.5.0",
       "_view_name": "ProgressView",
       "bar_style": "success",
       "description": "100%",
       "description_tooltip": null,
       "layout": "IPY_MODEL_4090678a2b5248d982297df134862dd8",
       "max": 159571.0,
       "min": 0.0,
       "orientation": "horizontal",
       "style": "IPY_MODEL_7a7da948051b4ae88f4a0f57f91263a7",
       "value": 159571.0
      }
     },
     "5eeabb2c8ced4738be711255f4ae6358": {
      "model_module": "@jupyter-widgets/controls",
      "model_module_version": "1.5.0",
      "model_name": "ProgressStyleModel",
      "state": {
       "_model_module": "@jupyter-widgets/controls",
       "_model_module_version": "1.5.0",
       "_model_name": "ProgressStyleModel",
       "_view_count": null,
       "_view_module": "@jupyter-widgets/base",
       "_view_module_version": "1.2.0",
       "_view_name": "StyleView",
       "bar_color": null,
       "description_width": "initial"
      }
     },
     "68fa7bdcbcfa4f42927b287009d6bde9": {
      "model_module": "@jupyter-widgets/controls",
      "model_module_version": "1.5.0",
      "model_name": "FloatProgressModel",
      "state": {
       "_dom_classes": [],
       "_model_module": "@jupyter-widgets/controls",
       "_model_module_version": "1.5.0",
       "_model_name": "FloatProgressModel",
       "_view_count": null,
       "_view_module": "@jupyter-widgets/controls",
       "_view_module_version": "1.5.0",
       "_view_name": "ProgressView",
       "bar_style": "success",
       "description": "100%",
       "description_tooltip": null,
       "layout": "IPY_MODEL_2f54cb4cb51c4063b6d7dd4e11ee8f49",
       "max": 153164.0,
       "min": 0.0,
       "orientation": "horizontal",
       "style": "IPY_MODEL_c65fabc97917482fb599fe3fb7c7fe65",
       "value": 153164.0
      }
     },
     "6e5b9aed95d0406d839120c89d91cf93": {
      "model_module": "@jupyter-widgets/base",
      "model_module_version": "1.2.0",
      "model_name": "LayoutModel",
      "state": {
       "_model_module": "@jupyter-widgets/base",
       "_model_module_version": "1.2.0",
       "_model_name": "LayoutModel",
       "_view_count": null,
       "_view_module": "@jupyter-widgets/base",
       "_view_module_version": "1.2.0",
       "_view_name": "LayoutView",
       "align_content": null,
       "align_items": null,
       "align_self": null,
       "border": null,
       "bottom": null,
       "display": null,
       "flex": null,
       "flex_flow": null,
       "grid_area": null,
       "grid_auto_columns": null,
       "grid_auto_flow": null,
       "grid_auto_rows": null,
       "grid_column": null,
       "grid_gap": null,
       "grid_row": null,
       "grid_template_areas": null,
       "grid_template_columns": null,
       "grid_template_rows": null,
       "height": null,
       "justify_content": null,
       "justify_items": null,
       "left": null,
       "margin": null,
       "max_height": null,
       "max_width": null,
       "min_height": null,
       "min_width": null,
       "object_fit": null,
       "object_position": null,
       "order": null,
       "overflow": null,
       "overflow_x": null,
       "overflow_y": null,
       "padding": null,
       "right": null,
       "top": null,
       "visibility": null,
       "width": null
      }
     },
     "70b52b1d25854f3caedeaf2ab62c4ae2": {
      "model_module": "@jupyter-widgets/controls",
      "model_module_version": "1.5.0",
      "model_name": "DescriptionStyleModel",
      "state": {
       "_model_module": "@jupyter-widgets/controls",
       "_model_module_version": "1.5.0",
       "_model_name": "DescriptionStyleModel",
       "_view_count": null,
       "_view_module": "@jupyter-widgets/base",
       "_view_module_version": "1.2.0",
       "_view_name": "StyleView",
       "description_width": ""
      }
     },
     "75460b42f581442faef6fbfd325a1a54": {
      "model_module": "@jupyter-widgets/controls",
      "model_module_version": "1.5.0",
      "model_name": "ProgressStyleModel",
      "state": {
       "_model_module": "@jupyter-widgets/controls",
       "_model_module_version": "1.5.0",
       "_model_name": "ProgressStyleModel",
       "_view_count": null,
       "_view_module": "@jupyter-widgets/base",
       "_view_module_version": "1.2.0",
       "_view_name": "StyleView",
       "bar_color": null,
       "description_width": "initial"
      }
     },
     "76efbe87cdeb478e94dfca6a68bef099": {
      "model_module": "@jupyter-widgets/controls",
      "model_module_version": "1.5.0",
      "model_name": "DescriptionStyleModel",
      "state": {
       "_model_module": "@jupyter-widgets/controls",
       "_model_module_version": "1.5.0",
       "_model_name": "DescriptionStyleModel",
       "_view_count": null,
       "_view_module": "@jupyter-widgets/base",
       "_view_module_version": "1.2.0",
       "_view_name": "StyleView",
       "description_width": ""
      }
     },
     "7a7da948051b4ae88f4a0f57f91263a7": {
      "model_module": "@jupyter-widgets/controls",
      "model_module_version": "1.5.0",
      "model_name": "ProgressStyleModel",
      "state": {
       "_model_module": "@jupyter-widgets/controls",
       "_model_module_version": "1.5.0",
       "_model_name": "ProgressStyleModel",
       "_view_count": null,
       "_view_module": "@jupyter-widgets/base",
       "_view_module_version": "1.2.0",
       "_view_name": "StyleView",
       "bar_color": null,
       "description_width": "initial"
      }
     },
     "84d2d31b617146a1af9ec743830416e2": {
      "model_module": "@jupyter-widgets/base",
      "model_module_version": "1.2.0",
      "model_name": "LayoutModel",
      "state": {
       "_model_module": "@jupyter-widgets/base",
       "_model_module_version": "1.2.0",
       "_model_name": "LayoutModel",
       "_view_count": null,
       "_view_module": "@jupyter-widgets/base",
       "_view_module_version": "1.2.0",
       "_view_name": "LayoutView",
       "align_content": null,
       "align_items": null,
       "align_self": null,
       "border": null,
       "bottom": null,
       "display": null,
       "flex": null,
       "flex_flow": null,
       "grid_area": null,
       "grid_auto_columns": null,
       "grid_auto_flow": null,
       "grid_auto_rows": null,
       "grid_column": null,
       "grid_gap": null,
       "grid_row": null,
       "grid_template_areas": null,
       "grid_template_columns": null,
       "grid_template_rows": null,
       "height": null,
       "justify_content": null,
       "justify_items": null,
       "left": null,
       "margin": null,
       "max_height": null,
       "max_width": null,
       "min_height": null,
       "min_width": null,
       "object_fit": null,
       "object_position": null,
       "order": null,
       "overflow": null,
       "overflow_x": null,
       "overflow_y": null,
       "padding": null,
       "right": null,
       "top": null,
       "visibility": null,
       "width": null
      }
     },
     "84f87edac64546a9a18a678b83d9197b": {
      "model_module": "@jupyter-widgets/controls",
      "model_module_version": "1.5.0",
      "model_name": "FloatProgressModel",
      "state": {
       "_dom_classes": [],
       "_model_module": "@jupyter-widgets/controls",
       "_model_module_version": "1.5.0",
       "_model_name": "FloatProgressModel",
       "_view_count": null,
       "_view_module": "@jupyter-widgets/controls",
       "_view_module_version": "1.5.0",
       "_view_name": "ProgressView",
       "bar_style": "success",
       "description": "100%",
       "description_tooltip": null,
       "layout": "IPY_MODEL_c2384e0de9a34e29b7d079f141962a3e",
       "max": 159571.0,
       "min": 0.0,
       "orientation": "horizontal",
       "style": "IPY_MODEL_75460b42f581442faef6fbfd325a1a54",
       "value": 159571.0
      }
     },
     "89d5c73cc8864fcea669fcb9574220f9": {
      "model_module": "@jupyter-widgets/controls",
      "model_module_version": "1.5.0",
      "model_name": "HTMLModel",
      "state": {
       "_dom_classes": [],
       "_model_module": "@jupyter-widgets/controls",
       "_model_module_version": "1.5.0",
       "_model_name": "HTMLModel",
       "_view_count": null,
       "_view_module": "@jupyter-widgets/controls",
       "_view_module_version": "1.5.0",
       "_view_name": "HTMLView",
       "description": "",
       "description_tooltip": null,
       "layout": "IPY_MODEL_6e5b9aed95d0406d839120c89d91cf93",
       "placeholder": "​",
       "style": "IPY_MODEL_e65443f7b3f146788b1b672eccb2a08f",
       "value": " 153164/153164 [00:35&lt;00:00, 4270.28it/s]"
      }
     },
     "930c3cc2fe2d4f57b09bb9ee7a843708": {
      "model_module": "@jupyter-widgets/base",
      "model_module_version": "1.2.0",
      "model_name": "LayoutModel",
      "state": {
       "_model_module": "@jupyter-widgets/base",
       "_model_module_version": "1.2.0",
       "_model_name": "LayoutModel",
       "_view_count": null,
       "_view_module": "@jupyter-widgets/base",
       "_view_module_version": "1.2.0",
       "_view_name": "LayoutView",
       "align_content": null,
       "align_items": null,
       "align_self": null,
       "border": null,
       "bottom": null,
       "display": null,
       "flex": null,
       "flex_flow": null,
       "grid_area": null,
       "grid_auto_columns": null,
       "grid_auto_flow": null,
       "grid_auto_rows": null,
       "grid_column": null,
       "grid_gap": null,
       "grid_row": null,
       "grid_template_areas": null,
       "grid_template_columns": null,
       "grid_template_rows": null,
       "height": null,
       "justify_content": null,
       "justify_items": null,
       "left": null,
       "margin": null,
       "max_height": null,
       "max_width": null,
       "min_height": null,
       "min_width": null,
       "object_fit": null,
       "object_position": null,
       "order": null,
       "overflow": null,
       "overflow_x": null,
       "overflow_y": null,
       "padding": null,
       "right": null,
       "top": null,
       "visibility": null,
       "width": null
      }
     },
     "ae1903c5c157445c96131b17d81e99be": {
      "model_module": "@jupyter-widgets/controls",
      "model_module_version": "1.5.0",
      "model_name": "HBoxModel",
      "state": {
       "_dom_classes": [],
       "_model_module": "@jupyter-widgets/controls",
       "_model_module_version": "1.5.0",
       "_model_name": "HBoxModel",
       "_view_count": null,
       "_view_module": "@jupyter-widgets/controls",
       "_view_module_version": "1.5.0",
       "_view_name": "HBoxView",
       "box_style": "",
       "children": [
        "IPY_MODEL_2e0b9356505942abb23f1d6788fd41df",
        "IPY_MODEL_89d5c73cc8864fcea669fcb9574220f9"
       ],
       "layout": "IPY_MODEL_3f7f0826d5a947c6916b58a41a99b041"
      }
     },
     "bd424decc9364f0dbe46c75c85a7644a": {
      "model_module": "@jupyter-widgets/base",
      "model_module_version": "1.2.0",
      "model_name": "LayoutModel",
      "state": {
       "_model_module": "@jupyter-widgets/base",
       "_model_module_version": "1.2.0",
       "_model_name": "LayoutModel",
       "_view_count": null,
       "_view_module": "@jupyter-widgets/base",
       "_view_module_version": "1.2.0",
       "_view_name": "LayoutView",
       "align_content": null,
       "align_items": null,
       "align_self": null,
       "border": null,
       "bottom": null,
       "display": null,
       "flex": null,
       "flex_flow": null,
       "grid_area": null,
       "grid_auto_columns": null,
       "grid_auto_flow": null,
       "grid_auto_rows": null,
       "grid_column": null,
       "grid_gap": null,
       "grid_row": null,
       "grid_template_areas": null,
       "grid_template_columns": null,
       "grid_template_rows": null,
       "height": null,
       "justify_content": null,
       "justify_items": null,
       "left": null,
       "margin": null,
       "max_height": null,
       "max_width": null,
       "min_height": null,
       "min_width": null,
       "object_fit": null,
       "object_position": null,
       "order": null,
       "overflow": null,
       "overflow_x": null,
       "overflow_y": null,
       "padding": null,
       "right": null,
       "top": null,
       "visibility": null,
       "width": null
      }
     },
     "c0579aed3273498e9bc585af691d3f2a": {
      "model_module": "@jupyter-widgets/base",
      "model_module_version": "1.2.0",
      "model_name": "LayoutModel",
      "state": {
       "_model_module": "@jupyter-widgets/base",
       "_model_module_version": "1.2.0",
       "_model_name": "LayoutModel",
       "_view_count": null,
       "_view_module": "@jupyter-widgets/base",
       "_view_module_version": "1.2.0",
       "_view_name": "LayoutView",
       "align_content": null,
       "align_items": null,
       "align_self": null,
       "border": null,
       "bottom": null,
       "display": null,
       "flex": null,
       "flex_flow": null,
       "grid_area": null,
       "grid_auto_columns": null,
       "grid_auto_flow": null,
       "grid_auto_rows": null,
       "grid_column": null,
       "grid_gap": null,
       "grid_row": null,
       "grid_template_areas": null,
       "grid_template_columns": null,
       "grid_template_rows": null,
       "height": null,
       "justify_content": null,
       "justify_items": null,
       "left": null,
       "margin": null,
       "max_height": null,
       "max_width": null,
       "min_height": null,
       "min_width": null,
       "object_fit": null,
       "object_position": null,
       "order": null,
       "overflow": null,
       "overflow_x": null,
       "overflow_y": null,
       "padding": null,
       "right": null,
       "top": null,
       "visibility": null,
       "width": null
      }
     },
     "c2384e0de9a34e29b7d079f141962a3e": {
      "model_module": "@jupyter-widgets/base",
      "model_module_version": "1.2.0",
      "model_name": "LayoutModel",
      "state": {
       "_model_module": "@jupyter-widgets/base",
       "_model_module_version": "1.2.0",
       "_model_name": "LayoutModel",
       "_view_count": null,
       "_view_module": "@jupyter-widgets/base",
       "_view_module_version": "1.2.0",
       "_view_name": "LayoutView",
       "align_content": null,
       "align_items": null,
       "align_self": null,
       "border": null,
       "bottom": null,
       "display": null,
       "flex": null,
       "flex_flow": null,
       "grid_area": null,
       "grid_auto_columns": null,
       "grid_auto_flow": null,
       "grid_auto_rows": null,
       "grid_column": null,
       "grid_gap": null,
       "grid_row": null,
       "grid_template_areas": null,
       "grid_template_columns": null,
       "grid_template_rows": null,
       "height": null,
       "justify_content": null,
       "justify_items": null,
       "left": null,
       "margin": null,
       "max_height": null,
       "max_width": null,
       "min_height": null,
       "min_width": null,
       "object_fit": null,
       "object_position": null,
       "order": null,
       "overflow": null,
       "overflow_x": null,
       "overflow_y": null,
       "padding": null,
       "right": null,
       "top": null,
       "visibility": null,
       "width": null
      }
     },
     "c44770215f314e6fbb76e8c707d04dfa": {
      "model_module": "@jupyter-widgets/controls",
      "model_module_version": "1.5.0",
      "model_name": "HBoxModel",
      "state": {
       "_dom_classes": [],
       "_model_module": "@jupyter-widgets/controls",
       "_model_module_version": "1.5.0",
       "_model_name": "HBoxModel",
       "_view_count": null,
       "_view_module": "@jupyter-widgets/controls",
       "_view_module_version": "1.5.0",
       "_view_name": "HBoxView",
       "box_style": "",
       "children": [
        "IPY_MODEL_68fa7bdcbcfa4f42927b287009d6bde9",
        "IPY_MODEL_22cba89b377048f78741e08db76a2a13"
       ],
       "layout": "IPY_MODEL_331f5554fd33464db0cc3ebf5fdce495"
      }
     },
     "c65fabc97917482fb599fe3fb7c7fe65": {
      "model_module": "@jupyter-widgets/controls",
      "model_module_version": "1.5.0",
      "model_name": "ProgressStyleModel",
      "state": {
       "_model_module": "@jupyter-widgets/controls",
       "_model_module_version": "1.5.0",
       "_model_name": "ProgressStyleModel",
       "_view_count": null,
       "_view_module": "@jupyter-widgets/base",
       "_view_module_version": "1.2.0",
       "_view_name": "StyleView",
       "bar_color": null,
       "description_width": "initial"
      }
     },
     "da8e4945d8a94d78ba40fe369c3abc94": {
      "model_module": "@jupyter-widgets/controls",
      "model_module_version": "1.5.0",
      "model_name": "HTMLModel",
      "state": {
       "_dom_classes": [],
       "_model_module": "@jupyter-widgets/controls",
       "_model_module_version": "1.5.0",
       "_model_name": "HTMLModel",
       "_view_count": null,
       "_view_module": "@jupyter-widgets/controls",
       "_view_module_version": "1.5.0",
       "_view_name": "HTMLView",
       "description": "",
       "description_tooltip": null,
       "layout": "IPY_MODEL_eb58a338fece4992b93a4d418b1246c8",
       "placeholder": "​",
       "style": "IPY_MODEL_76efbe87cdeb478e94dfca6a68bef099",
       "value": " 159571/159571 [01:16&lt;00:00, 2084.18it/s]"
      }
     },
     "dd8d1873ad624c1795c70b3b33890f24": {
      "model_module": "@jupyter-widgets/controls",
      "model_module_version": "1.5.0",
      "model_name": "DescriptionStyleModel",
      "state": {
       "_model_module": "@jupyter-widgets/controls",
       "_model_module_version": "1.5.0",
       "_model_name": "DescriptionStyleModel",
       "_view_count": null,
       "_view_module": "@jupyter-widgets/base",
       "_view_module_version": "1.2.0",
       "_view_name": "StyleView",
       "description_width": ""
      }
     },
     "df14f959a61442208de5db54f2203ede": {
      "model_module": "@jupyter-widgets/base",
      "model_module_version": "1.2.0",
      "model_name": "LayoutModel",
      "state": {
       "_model_module": "@jupyter-widgets/base",
       "_model_module_version": "1.2.0",
       "_model_name": "LayoutModel",
       "_view_count": null,
       "_view_module": "@jupyter-widgets/base",
       "_view_module_version": "1.2.0",
       "_view_name": "LayoutView",
       "align_content": null,
       "align_items": null,
       "align_self": null,
       "border": null,
       "bottom": null,
       "display": null,
       "flex": null,
       "flex_flow": null,
       "grid_area": null,
       "grid_auto_columns": null,
       "grid_auto_flow": null,
       "grid_auto_rows": null,
       "grid_column": null,
       "grid_gap": null,
       "grid_row": null,
       "grid_template_areas": null,
       "grid_template_columns": null,
       "grid_template_rows": null,
       "height": null,
       "justify_content": null,
       "justify_items": null,
       "left": null,
       "margin": null,
       "max_height": null,
       "max_width": null,
       "min_height": null,
       "min_width": null,
       "object_fit": null,
       "object_position": null,
       "order": null,
       "overflow": null,
       "overflow_x": null,
       "overflow_y": null,
       "padding": null,
       "right": null,
       "top": null,
       "visibility": null,
       "width": null
      }
     },
     "e65443f7b3f146788b1b672eccb2a08f": {
      "model_module": "@jupyter-widgets/controls",
      "model_module_version": "1.5.0",
      "model_name": "DescriptionStyleModel",
      "state": {
       "_model_module": "@jupyter-widgets/controls",
       "_model_module_version": "1.5.0",
       "_model_name": "DescriptionStyleModel",
       "_view_count": null,
       "_view_module": "@jupyter-widgets/base",
       "_view_module_version": "1.2.0",
       "_view_name": "StyleView",
       "description_width": ""
      }
     },
     "eb58a338fece4992b93a4d418b1246c8": {
      "model_module": "@jupyter-widgets/base",
      "model_module_version": "1.2.0",
      "model_name": "LayoutModel",
      "state": {
       "_model_module": "@jupyter-widgets/base",
       "_model_module_version": "1.2.0",
       "_model_name": "LayoutModel",
       "_view_count": null,
       "_view_module": "@jupyter-widgets/base",
       "_view_module_version": "1.2.0",
       "_view_name": "LayoutView",
       "align_content": null,
       "align_items": null,
       "align_self": null,
       "border": null,
       "bottom": null,
       "display": null,
       "flex": null,
       "flex_flow": null,
       "grid_area": null,
       "grid_auto_columns": null,
       "grid_auto_flow": null,
       "grid_auto_rows": null,
       "grid_column": null,
       "grid_gap": null,
       "grid_row": null,
       "grid_template_areas": null,
       "grid_template_columns": null,
       "grid_template_rows": null,
       "height": null,
       "justify_content": null,
       "justify_items": null,
       "left": null,
       "margin": null,
       "max_height": null,
       "max_width": null,
       "min_height": null,
       "min_width": null,
       "object_fit": null,
       "object_position": null,
       "order": null,
       "overflow": null,
       "overflow_x": null,
       "overflow_y": null,
       "padding": null,
       "right": null,
       "top": null,
       "visibility": null,
       "width": null
      }
     }
    },
    "version_major": 2,
    "version_minor": 0
   }
  }
 },
 "nbformat": 4,
 "nbformat_minor": 4
}
