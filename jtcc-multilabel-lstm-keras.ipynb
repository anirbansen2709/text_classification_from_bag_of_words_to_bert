{
 "cells": [
  {
   "cell_type": "markdown",
   "metadata": {
    "papermill": {
     "duration": 0.01924,
     "end_time": "2021-01-06T22:59:49.433242",
     "exception": false,
     "start_time": "2021-01-06T22:59:49.414002",
     "status": "completed"
    },
    "tags": []
   },
   "source": [
    "### Table of Contents:\n",
    "\n",
    "[0. Introduction](#0)\n",
    "\n",
    "[1. Importing Libraries](#1)\n",
    "\n",
    "[2. Reading Dataset](#2)\n",
    "\n",
    "[3. Text Preprocessing](#3)\n",
    "\n",
    "[4. Defining a Multi-Label LSTM model](#4)\n",
    "\n",
    "[5. Compile and train the LSTM model](#5)\n",
    "\n",
    "[6. Predicting and Submitting for Test Data](#6)\n",
    "\n",
    "[7. TODOs](#7)"
   ]
  },
  {
   "cell_type": "markdown",
   "metadata": {
    "papermill": {
     "duration": 0.014983,
     "end_time": "2021-01-06T22:59:49.463906",
     "exception": false,
     "start_time": "2021-01-06T22:59:49.448923",
     "status": "completed"
    },
    "tags": []
   },
   "source": [
    "## 0. Introduction <a class=\"anchor\" id=\"0\"></a>\n",
    "In earlier notebook(https://www.kaggle.com/anirbansen3027/jtcc-cnn) we used g Keras Library (which is a wrapper over tensorflow) for creating 1-D Convolutional Neural Networks(CNNs) for multi-label text classification on output variables - toxic, severe_toxic, obscene, threat, insult, identity_hate.\n",
    "\n",
    "In this one, we will be using the same Keras Library (which is a wrapper over tensorflow) for creating Long Short Term Memory (LSTM) which is an improvement over regular RNNs for multi-label text classification. We will be first going through a bit of intuition of how RNNs and LSTM work and then implement it using a minimalistic single output layer network for multilabel classification (instead of creating 6 separate networks for each type of toxicity or creating a multiple output layer network). We will be just using a single LSTM layer and in just a single epoch it gives ~96 AUC on leaderboard \n",
    "\n",
    "### Why do we need for RNNs?\n",
    "In a traditional neural network we assume that all inputs (and outputs) are independent of each other. They dont share features learnt across different positions of text. This might be an issue for sequential information such as text data or time-series data where each instance is also dependent on the previous ones. RNNs are called recurrent because they perform the same task for every element of a sequence, with the output being depended on the previous computations. Another way to think about RNNs is that they have a “memory” which captures information about what has been calculated so far. \n",
    "\n",
    "<img src=\"https://i.imgur.com/FQyAYBP.png\" title=\"source: imgur.com\" width = 700/>\n",
    "\n",
    "### What is the architecture of RNNs?\n",
    "The overall architecture of the RNN depends on the task in hand. For this task which is a classification task, we will be using the 3rd one: many-to-one. But for intuition purpose, let's look at the 5th one which is a more generalised notation for RNNs. If we know how the 5th notation work, it will be just a matter to change a small part.\n",
    "\n",
    "<img src=\"https://www.di.ens.fr/~lelarge/dldiy/slides/lecture_8/images/rnn_variants_4.png\" width = 500/>\n",
    "Input vectors are in red, output vectors are in blue and green vectors hold the RNN's state (more on this soon). From left to right: (1) Vanilla mode of processing without RNN, from fixed-sized input to fixed-sized output (e.g. image classification). (2) Sequence output (e.g. image captioning takes an image and outputs a sentence of words). (3) Sequence input (e.g. sentiment analysis where a given sentence is classified as expressing positive or negative sentiment). (4) Sequence input and sequence output (e.g. Machine Translation: an RNN reads a sentence in English and then outputs a sentence in French). (5) Synced sequence input and output (e.g. video classification where we wish to label each frame of the video)\n",
    "\n",
    "<img src=\"https://i.imgur.com/S7AKfYi.png\"/>\n",
    "\n",
    "### What is vanishing gradients?\n",
    "The vanishing gradient problem arises in very deep Neural Networks, typically Recurrent Neural Networks, that use activation functions whose gradients tend to be small (in the range of 0 from 1). Because these small gradients are multiplied during backpropagation, they tend to “vanish” or reduce to 0 throughout the layers, preventing the network from learning long-range dependencies. As the sequence gets longer, the gradients/ derivatives passed to the previous states become smaller and smaller.There are many solutions to this problem. One of that is using LSTM.\n",
    "\n",
    "\n",
    "### What is an LSTM?\n",
    "Long Short Term Memory networks – usually just called “LSTMs” – are a special kind of RNN, capable of learning long-term dependencies.All RNNs have the form of a chain of repeating modules of neural network. LSTMs also have this chain like structure, but instead of the hidden layer we have something called LSTM cell and we have another connection that runs through all the time steps along with the hidden state.This is the called the \"Cell State\" vector from which information can be retrieved and removed as and when required.\n",
    "\n",
    "<img src=\"https://i.imgur.com/utWg9yZ.png\"/></a>\n",
    "\n",
    "Let's look at the 6 steps:\n",
    "\n",
    "1. This is the forget gate which is responsible for how much to forget and since it passes through a sigmoid function, it will give a value of 0 to 1 which is the amount of memory to be retained.\n",
    "2. This is the input gate which is responsible for how much new information is to be added to the cell state. Similar to forget gate this will also give a value of 0 to 1 which is the amount of new memory to be added\n",
    "3. This is the creation of new candidate vector/ cell state \n",
    "4. This is where the cell state is updated which is a combination of previos cell state and current cell state, the contribution of each is controlled using the forget gate and input gate respectively.\n",
    "5. This is the output gate which is responsible for what part of the updated cell state is to be remembered in the hidden state having a value between 0 and 1\n",
    "6. This is the updated hidden state which will be the input for next cell and is based on cell state controlled by output gate \n",
    "\n",
    "This is an awesome link to deep dive further into LSTM http://colah.github.io/posts/2015-08-Understanding-LSTMs/\n",
    "\n",
    "### How does LSTM solve vanishing gradients?\n",
    "* The LSTM architecture makes it easier for the RNN to preserve information over many timesteps e.g. if the forget gate is set to remember everything on every timestep, then the info in the cell is preserved indefinitely\n",
    "* By contrast, it’s harder for vanilla RNN to learn a recurrent weight matrix Wh that preserves info in hidden state\n",
    "* LSTM doesn’t guarantee that there is no vanishing/exploding gradient, but it does provide an easier way for the model to learn long-distance dependencies\n",
    "\n",
    "Before the birth of Transformers, LSTMs ruled the world of NLP. Even today it is used in many places\n",
    "\n",
    "**2015:**\n",
    "Google started using an LSTM for speech recognition on Google Voice. According to the official blog post, the new model cut transcription errors by 49%.\n",
    "\n",
    "**2016:**\n",
    "2016: Google started using an LSTM to suggest messages in the Allo conversation app. In the same year, Google released the Google Neural Machine Translation system for Google Translate which used LSTMs to reduce translation errors by 60%.\n",
    "\n",
    "Apple announced in its Worldwide Developers Conference that it would start using the LSTM for quicktype in the iPhone and for Siri.\n",
    "\n",
    "Amazon released Polly, which generates the voices behind Alexa, using a bidirectional LSTM for the text-to-speech technology.\n",
    "\n",
    "**2017:**\n",
    "Facebook performed some 4.5 billion automatic translations every day using long short-term memory networks.\n",
    "\n",
    "Enough of context, let's dive into the code 👨‍💻"
   ]
  },
  {
   "cell_type": "markdown",
   "metadata": {
    "papermill": {
     "duration": 0.01481,
     "end_time": "2021-01-06T22:59:49.494113",
     "exception": false,
     "start_time": "2021-01-06T22:59:49.479303",
     "status": "completed"
    },
    "tags": []
   },
   "source": [
    "## 1. Importing Libraries <a class=\"anchor\" id=\"1\"></a>"
   ]
  },
  {
   "cell_type": "code",
   "execution_count": 1,
   "metadata": {
    "_cell_guid": "b1076dfc-b9ad-4769-8c92-a6c4dae69d19",
    "_uuid": "8f2839f25d086af736a60e9eeb907d3b93b6e0e5",
    "execution": {
     "iopub.execute_input": "2021-01-06T22:59:49.532690Z",
     "iopub.status.busy": "2021-01-06T22:59:49.531839Z",
     "iopub.status.idle": "2021-01-06T22:59:56.720174Z",
     "shell.execute_reply": "2021-01-06T22:59:56.720733Z"
    },
    "papermill": {
     "duration": 7.211355,
     "end_time": "2021-01-06T22:59:56.720904",
     "exception": false,
     "start_time": "2021-01-06T22:59:49.509549",
     "status": "completed"
    },
    "tags": []
   },
   "outputs": [],
   "source": [
    "import numpy as np # linear algebra\n",
    "import pandas as pd # data processing, CSV file I/O (e.g. pd.read_csv)\n",
    "#sklearn libraries\n",
    "from sklearn.model_selection import train_test_split\n",
    "#keras libraries\n",
    "from keras.preprocessing.text import Tokenizer\n",
    "from keras.preprocessing.sequence import pad_sequences\n",
    "from keras.utils import to_categorical\n",
    "from keras.models import Sequential\n",
    "from keras.layers import Dense, LSTM, Embedding, Input\n",
    "#Constants\n",
    "MAX_SEQUENCE_LENGTH = 1000\n",
    "MAX_NUM_WORDS = 20000 \n",
    "EMBEDDING_DIM = 100 \n",
    "VALIDATION_SPLIT = 0.2"
   ]
  },
  {
   "cell_type": "markdown",
   "metadata": {
    "papermill": {
     "duration": 0.010501,
     "end_time": "2021-01-06T22:59:56.742756",
     "exception": false,
     "start_time": "2021-01-06T22:59:56.732255",
     "status": "completed"
    },
    "tags": []
   },
   "source": [
    "## 2.Reading Dataset <a class=\"anchor\" id=\"2\"></a>\n",
    "All the datasets are provided as zipped files. First we will have to unzip them and then read them into dataframes"
   ]
  },
  {
   "cell_type": "code",
   "execution_count": 2,
   "metadata": {
    "_cell_guid": "79c7e3d0-c299-4dcb-8224-4455121ee9b0",
    "_uuid": "d629ff2d2480ee46fbb7e2d37f6b5fab8052498a",
    "execution": {
     "iopub.execute_input": "2021-01-06T22:59:56.771992Z",
     "iopub.status.busy": "2021-01-06T22:59:56.771120Z",
     "iopub.status.idle": "2021-01-06T23:00:01.542949Z",
     "shell.execute_reply": "2021-01-06T23:00:01.542128Z"
    },
    "papermill": {
     "duration": 4.789912,
     "end_time": "2021-01-06T23:00:01.543063",
     "exception": false,
     "start_time": "2021-01-06T22:59:56.753151",
     "status": "completed"
    },
    "tags": []
   },
   "outputs": [
    {
     "name": "stdout",
     "output_type": "stream",
     "text": [
      "\r\n",
      "4 archives were successfully processed.\r\n",
      "(159571, 8) (153164, 2) (153164, 7)\n"
     ]
    },
    {
     "data": {
      "text/html": [
       "<div>\n",
       "<style scoped>\n",
       "    .dataframe tbody tr th:only-of-type {\n",
       "        vertical-align: middle;\n",
       "    }\n",
       "\n",
       "    .dataframe tbody tr th {\n",
       "        vertical-align: top;\n",
       "    }\n",
       "\n",
       "    .dataframe thead th {\n",
       "        text-align: right;\n",
       "    }\n",
       "</style>\n",
       "<table border=\"1\" class=\"dataframe\">\n",
       "  <thead>\n",
       "    <tr style=\"text-align: right;\">\n",
       "      <th></th>\n",
       "      <th>id</th>\n",
       "      <th>comment_text</th>\n",
       "      <th>toxic</th>\n",
       "      <th>severe_toxic</th>\n",
       "      <th>obscene</th>\n",
       "      <th>threat</th>\n",
       "      <th>insult</th>\n",
       "      <th>identity_hate</th>\n",
       "    </tr>\n",
       "  </thead>\n",
       "  <tbody>\n",
       "    <tr>\n",
       "      <th>0</th>\n",
       "      <td>0000997932d777bf</td>\n",
       "      <td>Explanation\\nWhy the edits made under my usern...</td>\n",
       "      <td>0</td>\n",
       "      <td>0</td>\n",
       "      <td>0</td>\n",
       "      <td>0</td>\n",
       "      <td>0</td>\n",
       "      <td>0</td>\n",
       "    </tr>\n",
       "    <tr>\n",
       "      <th>1</th>\n",
       "      <td>000103f0d9cfb60f</td>\n",
       "      <td>D'aww! He matches this background colour I'm s...</td>\n",
       "      <td>0</td>\n",
       "      <td>0</td>\n",
       "      <td>0</td>\n",
       "      <td>0</td>\n",
       "      <td>0</td>\n",
       "      <td>0</td>\n",
       "    </tr>\n",
       "    <tr>\n",
       "      <th>2</th>\n",
       "      <td>000113f07ec002fd</td>\n",
       "      <td>Hey man, I'm really not trying to edit war. It...</td>\n",
       "      <td>0</td>\n",
       "      <td>0</td>\n",
       "      <td>0</td>\n",
       "      <td>0</td>\n",
       "      <td>0</td>\n",
       "      <td>0</td>\n",
       "    </tr>\n",
       "    <tr>\n",
       "      <th>3</th>\n",
       "      <td>0001b41b1c6bb37e</td>\n",
       "      <td>\"\\nMore\\nI can't make any real suggestions on ...</td>\n",
       "      <td>0</td>\n",
       "      <td>0</td>\n",
       "      <td>0</td>\n",
       "      <td>0</td>\n",
       "      <td>0</td>\n",
       "      <td>0</td>\n",
       "    </tr>\n",
       "    <tr>\n",
       "      <th>4</th>\n",
       "      <td>0001d958c54c6e35</td>\n",
       "      <td>You, sir, are my hero. Any chance you remember...</td>\n",
       "      <td>0</td>\n",
       "      <td>0</td>\n",
       "      <td>0</td>\n",
       "      <td>0</td>\n",
       "      <td>0</td>\n",
       "      <td>0</td>\n",
       "    </tr>\n",
       "  </tbody>\n",
       "</table>\n",
       "</div>"
      ],
      "text/plain": [
       "                 id                                       comment_text  toxic  \\\n",
       "0  0000997932d777bf  Explanation\\nWhy the edits made under my usern...      0   \n",
       "1  000103f0d9cfb60f  D'aww! He matches this background colour I'm s...      0   \n",
       "2  000113f07ec002fd  Hey man, I'm really not trying to edit war. It...      0   \n",
       "3  0001b41b1c6bb37e  \"\\nMore\\nI can't make any real suggestions on ...      0   \n",
       "4  0001d958c54c6e35  You, sir, are my hero. Any chance you remember...      0   \n",
       "\n",
       "   severe_toxic  obscene  threat  insult  identity_hate  \n",
       "0             0        0       0       0              0  \n",
       "1             0        0       0       0              0  \n",
       "2             0        0       0       0              0  \n",
       "3             0        0       0       0              0  \n",
       "4             0        0       0       0              0  "
      ]
     },
     "execution_count": 2,
     "metadata": {},
     "output_type": "execute_result"
    }
   ],
   "source": [
    "#unzipping all the zip folders and saving it /kaggle/working and saving the verbose in /dev/null to keep it quiet\n",
    "# -o for overwrite -d for destination directory of unzipped file\n",
    "!unzip -o '/kaggle/input/jigsaw-toxic-comment-classification-challenge/*.zip' -d /kaggle/working > /dev/null\n",
    "\n",
    "#Reading input csv files\n",
    "df_train = pd.read_csv(\"train.csv\")\n",
    "df_test = pd.read_csv(\"test.csv\")\n",
    "sample_submission = pd.read_csv(\"sample_submission.csv\")\n",
    "\n",
    "print(df_train.shape, df_test.shape, sample_submission.shape)\n",
    "df_train.head()"
   ]
  },
  {
   "cell_type": "code",
   "execution_count": 3,
   "metadata": {
    "execution": {
     "iopub.execute_input": "2021-01-06T23:00:01.572506Z",
     "iopub.status.busy": "2021-01-06T23:00:01.571611Z",
     "iopub.status.idle": "2021-01-06T23:00:01.585607Z",
     "shell.execute_reply": "2021-01-06T23:00:01.586132Z"
    },
    "papermill": {
     "duration": 0.030163,
     "end_time": "2021-01-06T23:00:01.586268",
     "exception": false,
     "start_time": "2021-01-06T23:00:01.556105",
     "status": "completed"
    },
    "tags": []
   },
   "outputs": [
    {
     "name": "stdout",
     "output_type": "stream",
     "text": [
      "First comment text in training set:\n",
      "\n",
      " Explanation\n",
      "Why the edits made under my username Hardcore Metallica Fan were reverted? They weren't vandalisms, just closure on some GAs after I voted at New York Dolls FAC. And please don't remove the template from the talk page since I'm retired now.89.205.38.27\n"
     ]
    }
   ],
   "source": [
    "#Assinging the texts to list of strings\n",
    "train_texts= df_train.comment_text.values\n",
    "test_texts= df_test.comment_text.values\n",
    "#Assignings the labels as a separate df\n",
    "train_labels = df_train[[\"toxic\",\"severe_toxic\",\"obscene\",\"threat\",\"insult\",\"identity_hate\"]]\n",
    "#Printing the list of strings\n",
    "print(\"First comment text in training set:\\n\\n\", train_texts[0])"
   ]
  },
  {
   "cell_type": "markdown",
   "metadata": {
    "papermill": {
     "duration": 0.012298,
     "end_time": "2021-01-06T23:00:01.611259",
     "exception": false,
     "start_time": "2021-01-06T23:00:01.598961",
     "status": "completed"
    },
    "tags": []
   },
   "source": [
    "## 3. Text Preprocessing <a class=\"anchor\" id=\"3\"></a>\n",
    "The preprocessing for the LSTM model is pretty much same as the CNN one. We use the Tokenizer class from Keras to tokenize the strings into a sequence of numbers by mapping each word to a number based of frequency. We also use pad_sequences from Keras to pad the tokenized sequence of integers to make all the sequences of same size as the ANN be it CNN or LSTM will be expecting a fixed sized input each time for vectorized calculations. I would recommend to look at the notebook for an elaborate read (https://www.kaggle.com/anirbansen3027/jtcc-cnn#3.-Text-Preprocessing)\n",
    "\n",
    "*We will follow these steps going ahead for Multi-Label text classification using LSTM:*\n",
    "\n",
    "**Input String -> Tokenization -> Padding -> Embedding -> LSTM -> Classifier**"
   ]
  },
  {
   "cell_type": "code",
   "execution_count": 4,
   "metadata": {
    "execution": {
     "iopub.execute_input": "2021-01-06T23:00:01.640276Z",
     "iopub.status.busy": "2021-01-06T23:00:01.639683Z",
     "iopub.status.idle": "2021-01-06T23:00:58.579080Z",
     "shell.execute_reply": "2021-01-06T23:00:58.579657Z"
    },
    "papermill": {
     "duration": 56.955061,
     "end_time": "2021-01-06T23:00:58.579793",
     "exception": false,
     "start_time": "2021-01-06T23:00:01.624732",
     "status": "completed"
    },
    "tags": []
   },
   "outputs": [
    {
     "name": "stdout",
     "output_type": "stream",
     "text": [
      "Length of word Index: 210337\n",
      "First 5 elements in the word_index dictionary: {'the': 1, 'to': 2, 'of': 3, 'and': 4, 'a': 5}\n",
      "First comment text in training set:\n",
      " [688, 75, 1, 126, 130, 177, 29, 672, 4511, 12052, 1116, 86, 331, 51, 2278, 11448, 50, 6864, 15, 60, 2756, 148, 7, 2937, 34, 117, 1221, 15190, 2825, 4, 45, 59, 244, 1, 365, 31, 1, 38, 27, 143, 73, 3462, 89, 3085, 4583, 2273, 985]\n"
     ]
    }
   ],
   "source": [
    "#Initializing the class\n",
    "tokenizer = Tokenizer(num_words = MAX_NUM_WORDS)\n",
    "#Updates internal vocabulary based on a list of texts.\n",
    "tokenizer.fit_on_texts(train_texts)\n",
    "#Transforms each text in texts to a sequence of integers.\n",
    "train_sequences = tokenizer.texts_to_sequences(train_texts)\n",
    "test_sequences = tokenizer.texts_to_sequences(test_texts)\n",
    "word_index = tokenizer.word_index\n",
    "print(\"Length of word Index:\", len(word_index))\n",
    "print(\"First 5 elements in the word_index dictionary:\", dict(list(word_index.items())[0: 5]) )\n",
    "print(\"First comment text in training set:\\n\", train_sequences[0])"
   ]
  },
  {
   "cell_type": "code",
   "execution_count": 5,
   "metadata": {
    "execution": {
     "iopub.execute_input": "2021-01-06T23:00:58.625431Z",
     "iopub.status.busy": "2021-01-06T23:00:58.614949Z",
     "iopub.status.idle": "2021-01-06T23:01:05.167305Z",
     "shell.execute_reply": "2021-01-06T23:01:05.167964Z"
    },
    "papermill": {
     "duration": 6.574941,
     "end_time": "2021-01-06T23:01:05.168139",
     "exception": false,
     "start_time": "2021-01-06T23:00:58.593198",
     "status": "completed"
    },
    "tags": []
   },
   "outputs": [
    {
     "name": "stdout",
     "output_type": "stream",
     "text": [
      "Shape of padded sequence list:\n",
      " (159571, 1000)\n",
      "First comment text in training set - 0 for padding - only last 50 sequences as the rest are paddings:\n",
      " [    0     0     0   688    75     1   126   130   177    29   672  4511\n",
      " 12052  1116    86   331    51  2278 11448    50  6864    15    60  2756\n",
      "   148     7  2937    34   117  1221 15190  2825     4    45    59   244\n",
      "     1   365    31     1    38    27   143    73  3462    89  3085  4583\n",
      "  2273   985]\n"
     ]
    }
   ],
   "source": [
    "#Pad tokenized sequences\n",
    "trainvalid_data = pad_sequences(train_sequences, maxlen=MAX_SEQUENCE_LENGTH)\n",
    "test_data = pad_sequences(test_sequences, maxlen=MAX_SEQUENCE_LENGTH)\n",
    "print(\"Shape of padded sequence list:\\n\", trainvalid_data.shape)\n",
    "print(\"First comment text in training set - 0 for padding - only last 50 sequences as the rest are paddings:\\n\", trainvalid_data[0][-50:])"
   ]
  },
  {
   "cell_type": "markdown",
   "metadata": {
    "papermill": {
     "duration": 0.019454,
     "end_time": "2021-01-06T23:01:05.208075",
     "exception": false,
     "start_time": "2021-01-06T23:01:05.188621",
     "status": "completed"
    },
    "tags": []
   },
   "source": [
    "## 4. Defining a Multi-Label LSTM model <a class=\"anchor\" id=\"4\"></a>\n",
    "\n",
    "In keras, the easiest way to define a model is initiate a Sequential model class and keep adding required layers. A Sequential model is a plain stack of layers where each layer has exactly one input tensor and one output tensor.\n",
    "\n",
    "In this NN model, a new paramter called dropout is being used:\n",
    "\n",
    "**Dropout**\n",
    "\n",
    "Dropout is a technique for addressing the problem of overfitting. The key idea is to randomly drop units (along with their connections) from the neural network during training. This prevents units from co-adapting too much.\n",
    "A new hyperparameter is introduced that specifies the probability at which outputs of the layer are dropped out.\n",
    "\n",
    "Recurrent dropout masks (or \"drops\") the connections between the recurrent units.\n",
    "\n",
    "#### Important Note: In general,\n",
    "\n",
    "***For binary classification, we can have 1 output units, use sigmoid activation in the output layer and use binary cross entropy loss**\n",
    "\n",
    "***For multi class classification, we can have N output units, use softmax activation in the output layer and use categorical cross entropy loss**\n",
    "\n",
    "***For multi label classification, we can have N output units, use sigmoid activation in the output layer and use binary cross entropy loss**"
   ]
  },
  {
   "cell_type": "code",
   "execution_count": 6,
   "metadata": {
    "execution": {
     "iopub.execute_input": "2021-01-06T23:01:05.255070Z",
     "iopub.status.busy": "2021-01-06T23:01:05.254434Z",
     "iopub.status.idle": "2021-01-06T23:01:05.699530Z",
     "shell.execute_reply": "2021-01-06T23:01:05.698786Z"
    },
    "papermill": {
     "duration": 0.471521,
     "end_time": "2021-01-06T23:01:05.699644",
     "exception": false,
     "start_time": "2021-01-06T23:01:05.228123",
     "status": "completed"
    },
    "tags": []
   },
   "outputs": [
    {
     "name": "stdout",
     "output_type": "stream",
     "text": [
      "Model: \"sequential\"\n",
      "_________________________________________________________________\n",
      "Layer (type)                 Output Shape              Param #   \n",
      "=================================================================\n",
      "embedding (Embedding)        (None, None, 128)         2560000   \n",
      "_________________________________________________________________\n",
      "lstm (LSTM)                  (None, 128)               131584    \n",
      "_________________________________________________________________\n",
      "dense (Dense)                (None, 6)                 774       \n",
      "=================================================================\n",
      "Total params: 2,692,358\n",
      "Trainable params: 2,692,358\n",
      "Non-trainable params: 0\n",
      "_________________________________________________________________\n",
      "None\n"
     ]
    }
   ],
   "source": [
    "rnn_model = Sequential()\n",
    "rnn_model.add(Embedding(MAX_NUM_WORDS, 128))\n",
    "rnn_model.add(LSTM(units = 128, dropout = 0.2, recurrent_dropout = 0.2))\n",
    "rnn_model.add(Dense(units = 6, activation = 'sigmoid'))\n",
    "print(rnn_model.summary())"
   ]
  },
  {
   "cell_type": "markdown",
   "metadata": {
    "papermill": {
     "duration": 0.014359,
     "end_time": "2021-01-06T23:01:05.733083",
     "exception": false,
     "start_time": "2021-01-06T23:01:05.718724",
     "status": "completed"
    },
    "tags": []
   },
   "source": [
    "## 5. Compile and train the LSTM model <a class=\"anchor\" id=\"5\"></a>\n",
    "The compiling and training/fitting code is also pretty much same as the CNN model.\n",
    "\n",
    "Before starting to train the model, we need to configure it. We need to mention the loss fucntion which will be used to calculate the error at each iteration, optimizer which will specify how the weights will be updated and the metrics which is to be evaluated by the model during training and testing\n",
    "\n",
    "While fitting/ training the model, along with the training set we also pass the following parameters:\n",
    "\n",
    "batch_size = Number of samples that goes through the network at a time and updates the network parameters by calculating loss (in Mini Batch Gradient Descent)\n",
    "\n",
    "epochs = Number of times the whole set of training samples goes through the network\n",
    "\n",
    "validation_data = the dataset that will be used to evaluate the loss and any model metrics at the end of each epoch. This set will not be used for training."
   ]
  },
  {
   "cell_type": "code",
   "execution_count": 7,
   "metadata": {
    "execution": {
     "iopub.execute_input": "2021-01-06T23:01:05.777765Z",
     "iopub.status.busy": "2021-01-06T23:01:05.776873Z",
     "iopub.status.idle": "2021-01-06T23:55:05.775415Z",
     "shell.execute_reply": "2021-01-06T23:55:05.776848Z"
    },
    "papermill": {
     "duration": 3240.029834,
     "end_time": "2021-01-06T23:55:05.777044",
     "exception": false,
     "start_time": "2021-01-06T23:01:05.747210",
     "status": "completed"
    },
    "tags": []
   },
   "outputs": [
    {
     "name": "stdout",
     "output_type": "stream",
     "text": [
      "(119678, 1000) (119678, 6) (39893, 1000) (39893, 6)\n",
      "935/935 [==============================] - 3232s 3s/step - loss: 0.0886 - auc: 0.9333 - val_loss: 0.0534 - val_auc: 0.9799\n"
     ]
    }
   ],
   "source": [
    "#Configures the model for training.\n",
    "rnn_model.compile(loss = \"binary_crossentropy\", optimizer = \"adam\", metrics = [\"AUC\"])\n",
    "\n",
    "#Split the dataset into train and validation set for training and evaludating the model\n",
    "X_train, X_val, y_train, y_val = train_test_split(trainvalid_data, train_labels, shuffle = True, random_state = 123)\n",
    "print(X_train.shape, y_train.shape, X_val.shape, y_val.shape)\n",
    "\n",
    "#Trains the model for a fixed number of epochs (iterations on a dataset)\n",
    "history = rnn_model.fit(X_train, y_train, batch_size = 128, epochs = 1, validation_data = (X_val, y_val))"
   ]
  },
  {
   "cell_type": "markdown",
   "metadata": {
    "papermill": {
     "duration": 0.516773,
     "end_time": "2021-01-06T23:55:06.811422",
     "exception": false,
     "start_time": "2021-01-06T23:55:06.294649",
     "status": "completed"
    },
    "tags": []
   },
   "source": [
    "## 6. Predicting and Submitting for Test Data <a class=\"anchor\" id=\"6\"></a>"
   ]
  },
  {
   "cell_type": "code",
   "execution_count": 8,
   "metadata": {
    "execution": {
     "iopub.execute_input": "2021-01-06T23:55:07.831564Z",
     "iopub.status.busy": "2021-01-06T23:55:07.830738Z",
     "iopub.status.idle": "2021-01-07T00:12:45.953663Z",
     "shell.execute_reply": "2021-01-07T00:12:45.952930Z"
    },
    "papermill": {
     "duration": 1058.63429,
     "end_time": "2021-01-07T00:12:45.953810",
     "exception": false,
     "start_time": "2021-01-06T23:55:07.319520",
     "status": "completed"
    },
    "tags": []
   },
   "outputs": [],
   "source": [
    "# Merging the test dataset with sample_submission to have all the columns:\n",
    "#id,text_data and the target variables in one dataframe\n",
    "df_test = pd.merge(df_test, sample_submission, on = \"id\")\n",
    "#Use the CNN model to output probabilities on test data\n",
    "y_preds = rnn_model.predict(test_data)\n",
    "#Assign the predictions by the model in the final test dataset\n",
    "df_test[[\"toxic\",\"severe_toxic\",\"obscene\",\"threat\",\"insult\",\"identity_hate\"]] = y_preds\n",
    "#Drop Comment Text as the sample submission doesnt have it and wouldnt be expected\n",
    "df_test.drop([\"comment_text\"], axis = 1, inplace = True)\n",
    "#Save the dataset as a csv to submit it\n",
    "df_test.to_csv(\"sample_submission.csv\", index = False)"
   ]
  },
  {
   "cell_type": "markdown",
   "metadata": {
    "papermill": {
     "duration": 0.471642,
     "end_time": "2021-01-07T00:12:47.001403",
     "exception": false,
     "start_time": "2021-01-07T00:12:46.529761",
     "status": "completed"
    },
    "tags": []
   },
   "source": [
    "## 7. TODOs <a class=\"anchor\" id=\"7\"></a>\n",
    "* Stack more LSTM layers \n",
    "* Hyperparameter Tune the parameters\n",
    "\n",
    "Do upvote if you find it helpful 😁"
   ]
  }
 ],
 "metadata": {
  "kernelspec": {
   "display_name": "Python 3",
   "language": "python",
   "name": "python3"
  },
  "language_info": {
   "codemirror_mode": {
    "name": "ipython",
    "version": 3
   },
   "file_extension": ".py",
   "mimetype": "text/x-python",
   "name": "python",
   "nbconvert_exporter": "python",
   "pygments_lexer": "ipython3",
   "version": "3.7.6"
  },
  "papermill": {
   "duration": 4383.4077,
   "end_time": "2021-01-07T00:12:47.671675",
   "environment_variables": {},
   "exception": null,
   "input_path": "__notebook__.ipynb",
   "output_path": "__notebook__.ipynb",
   "parameters": {},
   "start_time": "2021-01-06T22:59:44.263975",
   "version": "2.1.0"
  }
 },
 "nbformat": 4,
 "nbformat_minor": 4
}
